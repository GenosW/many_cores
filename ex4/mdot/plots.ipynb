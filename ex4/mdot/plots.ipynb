{
 "metadata": {
  "language_info": {
   "codemirror_mode": {
    "name": "ipython",
    "version": 3
   },
   "file_extension": ".py",
   "mimetype": "text/x-python",
   "name": "python",
   "nbconvert_exporter": "python",
   "pygments_lexer": "ipython3",
   "version": "3.8.6-final"
  },
  "orig_nbformat": 2,
  "kernelspec": {
   "name": "python3",
   "display_name": "Python 3"
  }
 },
 "nbformat": 4,
 "nbformat_minor": 2,
 "cells": [
  {
   "source": [
    "# CUDA exercises"
   ],
   "cell_type": "markdown",
   "metadata": {}
  },
  {
   "cell_type": "code",
   "execution_count": null,
   "metadata": {},
   "outputs": [],
   "source": [
    "import numpy as np \n",
    "import pandas as pd \n",
    "import matplotlib.pyplot as plt\n",
    "import seaborn as sns\n",
    "from matplotlib import rcParams\n",
    "import itertools\n",
    "%matplotlib inline\n",
    "\n",
    "from IPython.display import display"
   ]
  },
  {
   "cell_type": "code",
   "execution_count": null,
   "metadata": {},
   "outputs": [],
   "source": [
    "def csv_parse(path, header=False, sep=\";\"):\n",
    "    if header:\n",
    "        df = pd.read_csv(path, sep=sep, names=header)\n",
    "    else:\n",
    "        df = pd.read_csv(path, sep=sep)\n",
    "    #display(df.head())\n",
    "    return df\n",
    "\n"
   ]
  },
  {
   "cell_type": "code",
   "execution_count": null,
   "metadata": {},
   "outputs": [],
   "source": [
    "def calcGB_Stride(df):\n",
    "    return 3*8* df[\"N\"]/df[\"k\"] /1e9\n",
    "\n",
    "def calcGB_Offset(df):\n",
    "    return 3*8* (df[\"N\"]-df[\"k\"])/1e9\n",
    "\n",
    "def transform_to_ms(df, cols):\n",
    "    return df[cols]*1e3"
   ]
  },
  {
   "source": [
    "# Ex4.1 multiple dot product"
   ],
   "cell_type": "markdown",
   "metadata": {}
  },
  {
   "cell_type": "code",
   "execution_count": null,
   "metadata": {},
   "outputs": [],
   "source": [
    "df = csv_parse(\"data.csv\", header=False)\n",
    "df[times_cols] = transform_to_ms(df, times_cols) # transform to ms\n",
    "display(df)"
   ]
  },
  {
   "cell_type": "code",
   "execution_count": null,
   "metadata": {},
   "outputs": [],
   "source": [
    "cols = df.columns\n",
    "times_cols = list(filter(lambda x: x not in [\"N\", \"k\"] ,cols))\n",
    "labels = list(map(lambda x: x.split(\"_\")[-1], times_cols))\n",
    "\n",
    "cols, times_cols, labels"
   ]
  },
  {
   "cell_type": "code",
   "execution_count": null,
   "metadata": {},
   "outputs": [],
   "source": [
    "fig, axs  = plt.subplots(nrows=2, ncols=2, figsize=(14,10));\n",
    "\n",
    "logx, logy = False, True\n",
    "if (logx and logy):\n",
    "    plot_format = \"loglog\"\n",
    "if (logx and not logy):\n",
    "    plot_format = \"logx\"\n",
    "if (not logx and logy):\n",
    "    plot_format = \"logy\"\n",
    "else:\n",
    "    plot_format = \"linear\"\n",
    "\n",
    "print_styling()\n",
    "for N, ax in zip(df.N.unique(), axs.ravel()):\n",
    "    df[df[\"N\"]==N].plot(x=\"k\", y=times_cols, ax=ax, \n",
    "                    logx=logx, logy=logy, marker=\"o\", fontsize=16);\n",
    "    ax.set_title(f\"N={N}\", fontsize=16);\n",
    "    ax.legend(labels, fontsize=14);\n",
    "    ax.set_xlabel(\"\", fontsize=16);\n",
    "    ax.set_xticks(df.k.unique())\n",
    "    #ax.set_xticklabels(df.k.unique())\n",
    "    #ax.ticklabel_format(axis=\"y\", style=\"sci\")\n",
    "\n",
    "plt.tight_layout()\n",
    "axs[0][0].set_ylabel(\"runtime [ms]\", fontsize=16);\n",
    "axs[1][0].set_ylabel(\"runtime [ms]\", fontsize=16);\n",
    "axs[1][0].set_xlabel(\"k\", fontsize=16);\n",
    "axs[1][1].set_xlabel(\"k\", fontsize=26);"
   ]
  },
  {
   "cell_type": "code",
   "execution_count": null,
   "metadata": {},
   "outputs": [],
   "source": [
    "def print_styling():\n",
    "    SMALL_SIZE = 15\n",
    "    MEDIUM_SIZE = 18\n",
    "    BIGGER_SIZE = 26\n",
    "\n",
    "    plt.rc('font', size=SMALL_SIZE)          # controls default text sizes\n",
    "\n",
    "    plt.rc('xtick', labelsize=SMALL_SIZE)    # fontsize of the tick labels\n",
    "    plt.rc('ytick', labelsize=SMALL_SIZE)    # fontsize of the tick labels\n",
    "    plt.rc('axes', titlesize=MEDIUM_SIZE)     # fontsize of the axes title\n",
    "    plt.rc('axes', labelsize=MEDIUM_SIZE)    # fontsize of the x and y labels\n",
    "    \n",
    "    plt.rc('legend', fontsize=SMALL_SIZE)    # legend fontsize\n",
    "    plt.rc('figure', titlesize=BIGGER_SIZE)  # fontsize of the figure title"
   ]
  },
  {
   "cell_type": "code",
   "execution_count": null,
   "metadata": {},
   "outputs": [],
   "source": [
    "for logx, logy in itertools.product([False, True], [False, True]):\n",
    "    #logx, logy = False, True\n",
    "    if (logx and logy):\n",
    "        plot_format = \"loglog\"\n",
    "    elif (logx and not logy):\n",
    "        plot_format = \"logx\"\n",
    "    elif (not logx and logy):\n",
    "        plot_format = \"logy\"\n",
    "    else:\n",
    "        plot_format = \"linear\"\n",
    "\n",
    "    fig, axs  = plt.subplots(nrows=2, ncols=2, figsize=(14,10));\n",
    "\n",
    "    for N, ax in zip(df.N.unique(), axs.ravel()):\n",
    "        df[df[\"N\"]==N].plot(x=\"k\", y=times_cols, ax=ax, \n",
    "                        logx=logx, logy=logy, marker=\"o\");\n",
    "        ax.set_title(f\"N={N}\");\n",
    "        ax.legend(labels);\n",
    "        ax.set_xlabel(\"\");\n",
    "        if not logx:\n",
    "            ax.set_xticks(df.k.unique())\n",
    "        else:\n",
    "            ax.set_xscale('log', basex=2)\n",
    "            #ax.set_xticklabels(df.k.unique())\n",
    "        ax.grid(True)\n",
    "\n",
    "    plt.tight_layout()\n",
    "    axs[0][0].set_ylabel(\"runtime [ms]\");\n",
    "    axs[1][0].set_ylabel(\"runtime [ms]\");\n",
    "    axs[1][0].set_xlabel(\"k\");\n",
    "    axs[1][1].set_xlabel(\"k\");\n",
    "    print_styling()\n",
    "    plt.savefig(f\"out/exec_times_{plot_format}.pdf\", bbox_inches=\"tight\", pad_inches=0.2);\n"
   ]
  },
  {
   "cell_type": "code",
   "execution_count": null,
   "metadata": {},
   "outputs": [],
   "source": []
  }
 ]
}