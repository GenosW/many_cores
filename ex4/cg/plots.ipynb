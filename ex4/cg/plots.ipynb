{
 "metadata": {
  "language_info": {
   "codemirror_mode": {
    "name": "ipython",
    "version": 3
   },
   "file_extension": ".py",
   "mimetype": "text/x-python",
   "name": "python",
   "nbconvert_exporter": "python",
   "pygments_lexer": "ipython3",
   "version": "3.8.6-final"
  },
  "orig_nbformat": 2,
  "kernelspec": {
   "name": "python3",
   "display_name": "Python 3"
  }
 },
 "nbformat": 4,
 "nbformat_minor": 2,
 "cells": [
  {
   "source": [
    "# CUDA exercises"
   ],
   "cell_type": "markdown",
   "metadata": {}
  },
  {
   "cell_type": "code",
   "execution_count": null,
   "metadata": {},
   "outputs": [],
   "source": [
    "import numpy as np \n",
    "import pandas as pd \n",
    "import matplotlib.pyplot as plt\n",
    "import seaborn as sns\n",
    "from matplotlib import rcParams\n",
    "import itertools\n",
    "%matplotlib inline\n",
    "\n",
    "from IPython.display import display"
   ]
  },
  {
   "cell_type": "code",
   "execution_count": null,
   "metadata": {},
   "outputs": [],
   "source": [
    "def csv_parse(path, header=False, sep=\";\"):\n",
    "    if header:\n",
    "        df = pd.read_csv(path, sep=sep, names=header)\n",
    "    else:\n",
    "        df = pd.read_csv(path, sep=sep)\n",
    "    #display(df.head())\n",
    "    return df"
   ]
  },
  {
   "cell_type": "code",
   "execution_count": null,
   "metadata": {},
   "outputs": [],
   "source": [
    "def calcGB_Stride(df):\n",
    "    return 3*8* df[\"N\"]/df[\"k\"] /1e9\n",
    "\n",
    "def calcGB_Offset(df):\n",
    "    return 3*8* (df[\"N\"]-df[\"k\"])/1e9\n",
    "\n",
    "def transform_to_ms(df, cols):\n",
    "    return df[cols]*1e3"
   ]
  },
  {
   "source": [
    "# Ex4.2 pipelined cg"
   ],
   "cell_type": "markdown",
   "metadata": {}
  },
  {
   "cell_type": "code",
   "execution_count": null,
   "metadata": {},
   "outputs": [],
   "source": [
    "df2 = csv_parse(\"classical.csv\", header=False)\n",
    "df2[\"time_per_iter\"] = df2[\"time\"] / df2[\"iters\"]\n",
    "display(df2)"
   ]
  },
  {
   "cell_type": "code",
   "execution_count": null,
   "metadata": {},
   "outputs": [],
   "source": [
    "df = csv_parse(\"pipelined.csv\", header=False)\n",
    "df[\"time_per_iter\"] = df[\"time\"] / df[\"iters\"]\n",
    "cols = df.columns\n",
    "times_cols = [\"time\", \"time_per_iter\"]\n",
    "labels = [\"pipelined\", \"classical\"]\n",
    "\n",
    "df[\"speedup\"] = df2[\"time\"] / df[\"time\"]\n",
    "display(df)"
   ]
  },
  {
   "cell_type": "code",
   "execution_count": null,
   "metadata": {},
   "outputs": [],
   "source": [
    "cols, times_cols, labels"
   ]
  },
  {
   "cell_type": "code",
   "execution_count": null,
   "metadata": {},
   "outputs": [],
   "source": [
    "def print_styling():\n",
    "    SMALL_SIZE = 15\n",
    "    MEDIUM_SIZE = 18\n",
    "    BIGGER_SIZE = 26\n",
    "\n",
    "    plt.rc('font', size=SMALL_SIZE)          # controls default text sizes\n",
    "\n",
    "    plt.rc('xtick', labelsize=SMALL_SIZE)    # fontsize of the tick labels\n",
    "    plt.rc('ytick', labelsize=SMALL_SIZE)    # fontsize of the tick labels\n",
    "    plt.rc('axes', titlesize=MEDIUM_SIZE)     # fontsize of the axes title\n",
    "    plt.rc('axes', labelsize=MEDIUM_SIZE)    # fontsize of the x and y labels\n",
    "    \n",
    "    plt.rc('legend', fontsize=SMALL_SIZE)    # legend fontsize\n",
    "    plt.rc('figure', titlesize=BIGGER_SIZE)  # fontsize of the figure title"
   ]
  },
  {
   "cell_type": "code",
   "execution_count": null,
   "metadata": {},
   "outputs": [],
   "source": [
    "fig, axs  = plt.subplots(nrows=2, ncols=2, figsize=(14,10));\n",
    "axs = axs.ravel()\n",
    "logx, logy = True, True\n",
    "if (logx and logy):\n",
    "    plot_format = \"loglog\"\n",
    "if (logx and not logy):\n",
    "    plot_format = \"logx\"\n",
    "if (not logx and logy):\n",
    "    plot_format = \"logy\"\n",
    "else:\n",
    "    plot_format = \"linear\"\n",
    "\n",
    "print_styling()\n",
    "df.plot(x=\"N\", y=\"time\", ax=axs[0], \n",
    "                logx=logx, logy=logy, marker=\"o\");\n",
    "df2.plot(x=\"N\", y=\"time\", ax=axs[0], \n",
    "                logx=logx, logy=logy, marker=\"o\");\n",
    "plt.grid()\n",
    "\n",
    "df.plot(x=\"N\", y=\"time_per_iter\", ax=axs[1], \n",
    "                logx=logx, logy=logy, marker=\"o\");\n",
    "df2.plot(x=\"N\", y=\"time_per_iter\", ax=axs[1], \n",
    "                logx=logx, logy=logy, marker=\"o\");\n",
    "plt.grid()\n",
    "\n",
    "df.plot(x=\"N\", y=\"speedup\", ax=axs[2], \n",
    "                logx=logx, logy=False, marker=\"o\");\n",
    "plt.grid()\n",
    "\n",
    "df.plot(x=\"N\", y=\"iters\", ax=axs[3], \n",
    "                logx=logx, logy=logy, marker=\"x\", markersize=12, markeredgewidth=4);\n",
    "df2.plot(x=\"N\", y=\"iters\", ax=axs[3], \n",
    "                logx=logx, logy=logy, marker=\"o\");\n",
    "\n",
    "axs[0].set_title(f\"Total runtimes\");\n",
    "axs[1].set_title(f\"Runtime per iteration\");\n",
    "axs[2].set_title(f\"Speedup\");\n",
    "axs[3].set_title(f\"Iterations needed\");\n",
    "\n",
    "axs[0].set_xlabel(f\"\");\n",
    "axs[1].set_xlabel(f\"\");\n",
    "axs[2].set_xlabel(f\"N\");\n",
    "axs[3].set_xlabel(f\"N\");\n",
    "\n",
    "axs[0].set_ylabel(\"runtime [s]\");\n",
    "axs[2].set_ylabel(\"Speedup\");\n",
    "axs[3].set_ylabel(\"iters\");\n",
    "\n",
    "axs[0].legend(labels);\n",
    "axs[1].legend(labels);\n",
    "axs[2].legend([\"Speedup\"]);\n",
    "axs[3].legend(labels);\n",
    "\n",
    "axs[0].grid(True);\n",
    "axs[1].grid(True);\n",
    "axs[2].grid(True);\n",
    "axs[3].grid(True);\n",
    "\n",
    "plt.tight_layout()\n",
    "print_styling()\n",
    "plt.savefig(f\"out/pipelined_vs_classical.pdf\", bbox_inches=\"tight\", pad_inches=0.2);"
   ]
  },
  {
   "cell_type": "code",
   "execution_count": null,
   "metadata": {},
   "outputs": [],
   "source": []
  }
 ]
}