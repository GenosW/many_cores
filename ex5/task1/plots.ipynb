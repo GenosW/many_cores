{
 "metadata": {
  "language_info": {
   "codemirror_mode": {
    "name": "ipython",
    "version": 3
   },
   "file_extension": ".py",
   "mimetype": "text/x-python",
   "name": "python",
   "nbconvert_exporter": "python",
   "pygments_lexer": "ipython3",
   "version": "3.8.6-final"
  },
  "orig_nbformat": 2,
  "kernelspec": {
   "name": "python3",
   "display_name": "Python 3"
  }
 },
 "nbformat": 4,
 "nbformat_minor": 2,
 "cells": [
  {
   "source": [
    "# CUDA exercises"
   ],
   "cell_type": "markdown",
   "metadata": {}
  },
  {
   "cell_type": "code",
   "execution_count": null,
   "metadata": {},
   "outputs": [],
   "source": [
    "import numpy as np \n",
    "import pandas as pd \n",
    "import matplotlib.pyplot as plt\n",
    "import seaborn as sns\n",
    "from matplotlib import rcParams\n",
    "import itertools\n",
    "%matplotlib inline\n",
    "\n",
    "from IPython.display import display"
   ]
  },
  {
   "cell_type": "code",
   "execution_count": null,
   "metadata": {},
   "outputs": [],
   "source": [
    "def csv_parse(path, header=False, sep=\";\"):\n",
    "    if header:\n",
    "        df = pd.read_csv(path, sep=sep, names=header)\n",
    "    else:\n",
    "        df = pd.read_csv(path, sep=sep)\n",
    "    #display(df.head())\n",
    "    return df\n",
    "\n"
   ]
  },
  {
   "cell_type": "code",
   "execution_count": null,
   "metadata": {},
   "outputs": [],
   "source": [
    "def calcGB_Stride(df):\n",
    "    return 3*8* df[\"N\"]/df[\"k\"] /1e9\n",
    "\n",
    "def calcGB_Offset(df):\n",
    "    return 3*8* (df[\"N\"]-df[\"k\"])/1e9\n",
    "\n",
    "def transform_to_ms(df, cols):\n",
    "    return df[cols]*1e3\n"
   ]
  },
  {
   "source": [
    "# Ex5.1 Inclusive + Exclusive Scan"
   ],
   "cell_type": "markdown",
   "metadata": {}
  },
  {
   "cell_type": "code",
   "execution_count": null,
   "metadata": {},
   "outputs": [],
   "source": [
    "df = csv_parse(\"in_ex_data_ph.csv\", header=False)\n",
    "#df[times_cols] = transform_to_ms(df, times_cols) # transform to ms\n",
    "display(df)"
   ]
  },
  {
   "cell_type": "code",
   "execution_count": null,
   "metadata": {},
   "outputs": [],
   "source": [
    "cols = df.columns\n",
    "times_cols = list(filter(lambda x: x not in [\"N\", \"k\"], cols))\n",
    "\n",
    "cols, times_cols"
   ]
  },
  {
   "cell_type": "code",
   "execution_count": null,
   "metadata": {},
   "outputs": [],
   "source": [
    "cpu_cols = list(filter(lambda x: \"cpu\" in x, times_cols))\n",
    "gpu_cols = list(filter(lambda x: \"gpu\" in x, times_cols))\n",
    "\n",
    "cpu_cols, gpu_cols"
   ]
  },
  {
   "cell_type": "code",
   "execution_count": null,
   "metadata": {},
   "outputs": [],
   "source": [
    "labels = list(map(lambda x: x.split(\"_\", 1)[-1], cpu_cols+gpu_cols))\n",
    "labels"
   ]
  },
  {
   "cell_type": "code",
   "execution_count": null,
   "metadata": {},
   "outputs": [],
   "source": [
    "speedup_cols = []\n",
    "for label in labels[2:]:\n",
    "    if \"ex\" in label:\n",
    "        ref = \"times_cpu_ex\"\n",
    "    if \"in\" in label:\n",
    "        ref = \"times_cpu_in\"\n",
    "    df[\"speedup_\"+label] = df[ref]/df[\"times_\"+label]\n",
    "    speedup_cols.append(\"speedup_\"+label)\n",
    "df"
   ]
  },
  {
   "cell_type": "code",
   "execution_count": null,
   "metadata": {},
   "outputs": [],
   "source": [
    "def print_styling():\n",
    "\n",
    "    plt.rc('figure', figsize=(14,8)) \n",
    "    SMALL_SIZE = 15\n",
    "    MEDIUM_SIZE = 18\n",
    "    BIGGER_SIZE = 26\n",
    "\n",
    "    plt.rc('font', size=SMALL_SIZE)          # controls default text sizes\n",
    "\n",
    "    plt.rc('xtick', labelsize=SMALL_SIZE)    # fontsize of the tick labels\n",
    "    plt.rc('ytick', labelsize=SMALL_SIZE)    # fontsize of the tick labels\n",
    "    plt.rc('axes', titlesize=MEDIUM_SIZE)     # fontsize of the axes title\n",
    "    plt.rc('axes', labelsize=MEDIUM_SIZE)    # fontsize of the x and y labels\n",
    "    \n",
    "    plt.rc('legend', fontsize=SMALL_SIZE)    # legend fontsize\n",
    "    plt.rc('figure', titlesize=BIGGER_SIZE)  # fontsize of the figure title"
   ]
  },
  {
   "cell_type": "code",
   "execution_count": null,
   "metadata": {},
   "outputs": [],
   "source": [
    "fig, axs = plt.subplots(ncols=2)\n",
    "\n",
    "logx, logy = True, True\n",
    "if (logx and logy):\n",
    "    plot_format = \"loglog\"\n",
    "if (logx and not logy):\n",
    "    plot_format = \"logx\"\n",
    "if (not logx and logy):\n",
    "    plot_format = \"logy\"\n",
    "else:\n",
    "    plot_format = \"linear\"\n",
    "\n",
    "print_styling();\n",
    "\n",
    "df.plot(x=\"N\", y=cpu_cols, logx=logx, logy=logy, marker=\"o\", linestyle=\"--\", ax=axs[0]);\n",
    "df.plot(x=\"N\", y=gpu_cols, logx=logx, logy=logy, marker=\"x\", linestyle=\"-\", ax=axs[0]);\n",
    "\n",
    "Nmin = 1e5\n",
    "df[df[\"N\"] >= Nmin].plot(x=\"N\", y=cpu_cols, logx=logx, logy=logy, marker=\"o\", linestyle=\"--\", ax=axs[1]);\n",
    "df[df[\"N\"] >= Nmin].plot(x=\"N\", y=gpu_cols, logx=logx, logy=logy, marker=\"x\", linestyle=\"-\", ax=axs[1]);\n",
    "\n",
    "fig.suptitle(\"Runtimes\")\n",
    "plt.tight_layout()\n",
    "axs[0].set_ylabel(\"runtime [s]\")\n",
    "\n",
    "for ax in axs.ravel():\n",
    "    ax.legend(labels)\n",
    "    ax.grid()\n",
    "\n",
    "fig.savefig(\"runtimes_all.pdf\", bbox_inches=\"tight\", pad_inches=0.2)"
   ]
  },
  {
   "cell_type": "code",
   "execution_count": null,
   "metadata": {},
   "outputs": [],
   "source": [
    "fig, axs = plt.subplots(ncols=2)\n",
    "\n",
    "logx, logy = True, True\n",
    "if (logx and logy):\n",
    "    plot_format = \"loglog\"\n",
    "if (logx and not logy):\n",
    "    plot_format = \"logx\"\n",
    "if (not logx and logy):\n",
    "    plot_format = \"logy\"\n",
    "else:\n",
    "    plot_format = \"linear\"\n",
    "\n",
    "print_styling();\n",
    "\n",
    "df.plot(x=\"N\", y=gpu_cols, logx=logx, logy=logy, marker=\"x\", linestyle=\"-\", ax=axs[0]);\n",
    "\n",
    "Nmin = 1e5\n",
    "df[df[\"N\"] >= Nmin].plot(x=\"N\", y=gpu_cols, logx=logx, logy=logy, marker=\"x\", linestyle=\"-\", ax=axs[1]);\n",
    "\n",
    "fig.suptitle(\"Runtimes\")\n",
    "plt.tight_layout()\n",
    "axs[0].set_ylabel(\"runtime [s]\")\n",
    "\n",
    "for ax in axs.ravel():\n",
    "    ax.legend(labels[2:])\n",
    "    ax.grid()\n",
    "\n",
    "fig.savefig(\"runtimes_gpu.pdf\", bbox_inches=\"tight\", pad_inches=0.2)"
   ]
  },
  {
   "cell_type": "code",
   "execution_count": null,
   "metadata": {},
   "outputs": [],
   "source": [
    "# Speedup\n",
    "fig, axs = plt.subplots(ncols=2)\n",
    "\n",
    "logx, logy = True, True\n",
    "if (logx and logy):\n",
    "    plot_format = \"loglog\"\n",
    "if (logx and not logy):\n",
    "    plot_format = \"logx\"\n",
    "if (not logx and logy):\n",
    "    plot_format = \"logy\"\n",
    "else:\n",
    "    plot_format = \"linear\"\n",
    "\n",
    "print_styling();\n",
    "\n",
    "df.plot(x=\"N\", y=speedup_cols, logx=logx, logy=logy, marker=\"x\", linestyle=\"-\", ax=axs[0]);\n",
    "\n",
    "Nmin = 1e5\n",
    "df[df[\"N\"] >= Nmin].plot(x=\"N\", y=speedup_cols, logx=logx, logy=logy, marker=\"x\", linestyle=\"-\", ax=axs[1]);\n",
    "\n",
    "fig.suptitle(\"Speedup\")\n",
    "plt.tight_layout()\n",
    "axs[0].set_ylabel(\"speedup (CPU/GPU)\")\n",
    "\n",
    "for ax in axs.ravel():\n",
    "    ax.legend(labels[2:])\n",
    "    ax.grid()\n",
    "\n",
    "fig.savefig(\"speedup.pdf\", bbox_inches=\"tight\", pad_inches=0.2)"
   ]
  },
  {
   "source": [
    "# Ex5.1 Inclusive + Exclusive Scan\n"
   ],
   "cell_type": "markdown",
   "metadata": {}
  },
  {
   "cell_type": "code",
   "execution_count": null,
   "metadata": {},
   "outputs": [],
   "source": []
  }
 ]
}