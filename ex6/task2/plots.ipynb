{
 "metadata": {
  "language_info": {
   "codemirror_mode": {
    "name": "ipython",
    "version": 3
   },
   "file_extension": ".py",
   "mimetype": "text/x-python",
   "name": "python",
   "nbconvert_exporter": "python",
   "pygments_lexer": "ipython3",
   "version": "3.8.6-final"
  },
  "orig_nbformat": 2,
  "kernelspec": {
   "name": "python3",
   "display_name": "Python 3"
  }
 },
 "nbformat": 4,
 "nbformat_minor": 2,
 "cells": [
  {
   "source": [
    "# CUDA exercises"
   ],
   "cell_type": "markdown",
   "metadata": {}
  },
  {
   "cell_type": "code",
   "execution_count": null,
   "metadata": {},
   "outputs": [],
   "source": [
    "import numpy as np \n",
    "import pandas as pd \n",
    "import matplotlib.pyplot as plt\n",
    "import seaborn as sns\n",
    "from matplotlib import rcParams\n",
    "import itertools\n",
    "%matplotlib inline\n",
    "\n",
    "from IPython.display import display"
   ]
  },
  {
   "cell_type": "code",
   "execution_count": null,
   "metadata": {},
   "outputs": [],
   "source": [
    "def csv_parse(path, header=False, sep=\";\"):\n",
    "    if header:\n",
    "        df = pd.read_csv(path, sep=sep, names=header)\n",
    "    else:\n",
    "        df = pd.read_csv(path, sep=sep)\n",
    "    #display(df.head())\n",
    "    return df"
   ]
  },
  {
   "cell_type": "code",
   "execution_count": null,
   "metadata": {},
   "outputs": [],
   "source": [
    "def calcGB_Stride(df):\n",
    "    return 3*8* df[\"N\"]/df[\"k\"] /1e9\n",
    "\n",
    "def calcGB_Offset(df):\n",
    "    return 3*8* (df[\"N\"]-df[\"k\"])/1e9\n",
    "\n",
    "def transform_to_ms(df, cols):\n",
    "    return df[cols]*1e3\n"
   ]
  },
  {
   "source": [
    "# Ex6.1 Warps"
   ],
   "cell_type": "markdown",
   "metadata": {}
  },
  {
   "cell_type": "code",
   "execution_count": null,
   "metadata": {},
   "outputs": [],
   "source": [
    "df = csv_parse(\"plots/ph_data_plot.csv\", header=False)\n",
    "df = df.sort_values(\"N\")\n",
    "display(df)"
   ]
  },
  {
   "cell_type": "code",
   "execution_count": null,
   "metadata": {},
   "outputs": [],
   "source": [
    "cols = df.columns\n",
    "cols"
   ]
  },
  {
   "cell_type": "code",
   "execution_count": null,
   "metadata": {},
   "outputs": [],
   "source": [
    "time_cols = list(filter(lambda x: \"time\" in x, cols))\n",
    "labels = list(map(lambda x: x.split(\"_\",1)[-1], time_cols))\n",
    "time_cols, labels"
   ]
  },
  {
   "cell_type": "code",
   "execution_count": null,
   "metadata": {},
   "outputs": [],
   "source": [
    "speedup_cols = []\n",
    "for x in [\"time_rm_stacked\", \"time_cm_stacked\"]:\n",
    "    col_name = \"speedup_\"+x.split(\"_\",1)[-1]\n",
    "    speedup_cols.append(col_name)\n",
    "    df[col_name] = df[\"time_single\"] / df[x]\n",
    "df"
   ]
  },
  {
   "cell_type": "code",
   "execution_count": null,
   "metadata": {},
   "outputs": [],
   "source": [
    "Ns = df[\"N\"].unique()\n",
    "Ns"
   ]
  },
  {
   "cell_type": "code",
   "execution_count": null,
   "metadata": {},
   "outputs": [],
   "source": [
    "def print_styling():\n",
    "\n",
    "    plt.rc('figure', figsize=(14,8)) \n",
    "    SMALL_SIZE = 15\n",
    "    MEDIUM_SIZE = 18\n",
    "    BIGGER_SIZE = 26\n",
    "\n",
    "    plt.rc('font', size=SMALL_SIZE)          # controls default text sizes\n",
    "    plt.rc('lines', linewidth=2)\n",
    "\n",
    "    plt.rc('xtick', labelsize=SMALL_SIZE)    # fontsize of the tick labels\n",
    "    plt.rc('ytick', labelsize=SMALL_SIZE)    # fontsize of the tick labels\n",
    "    plt.rc('axes', titlesize=MEDIUM_SIZE)     # fontsize of the axes title\n",
    "    plt.rc('axes', labelsize=MEDIUM_SIZE)    # fontsize of the x and y labels\n",
    "    \n",
    "    plt.rc('legend', fontsize=SMALL_SIZE)    # legend fontsize\n",
    "    plt.rc('figure', titlesize=BIGGER_SIZE)  # fontsize of the figure title\n",
    "print_styling()"
   ]
  },
  {
   "cell_type": "code",
   "execution_count": null,
   "metadata": {},
   "outputs": [],
   "source": [
    "tmp = np.array(df[\"K\"].unique())\n",
    "tmp.sort()\n",
    "tmp"
   ]
  },
  {
   "cell_type": "code",
   "execution_count": null,
   "metadata": {},
   "outputs": [],
   "source": [
    "fig, axs = plt.subplots(nrows=2, ncols=2, figsize=(14,12))\n",
    "\n",
    "logx, logy = True, True\n",
    "if (logx and logy):\n",
    "    plot_format = \"loglog\"\n",
    "if (logx and not logy):\n",
    "    plot_format = \"logx\"\n",
    "if (not logx and logy):\n",
    "    plot_format = \"logy\"\n",
    "else:\n",
    "    plot_format = \"linear\"\n",
    "\n",
    "print_styling();\n",
    "x = \"N\"\n",
    "axr = axs.ravel()\n",
    "i = 0\n",
    "Ks = np.array(df[\"K\"].unique())\n",
    "Ks.sort()\n",
    "for k in Ks:\n",
    "    if k%2 == 1:\n",
    "        continue\n",
    "    ax = axr[i]\n",
    "    i+=1\n",
    "    print(k)\n",
    "    df[df[\"K\"] == k].plot(x=x, y=time_cols, logx=logx, logy=logy, marker=\"o\", linestyle=\"-\", ax=ax)\n",
    "    ax.legend(labels)\n",
    "    ax.grid()\n",
    "    ax.set_title(f\"K = {k}\")\n",
    "    ax.set_xlabel(\"\")\n",
    "\n",
    "axs[0][0].set_ylabel(\"runtime [s]\")\n",
    "axs[1][0].set_ylabel(\"runtime [s]\")\n",
    "axs[1][0].set_xlabel(\"N\")\n",
    "axs[1][1].set_xlabel(\"N\")\n",
    "#df.plot(x=x, y=gpu_ref+[\"time_cpuref\"], logx=logx, logy=logy, linestyle=\"--\", ax=ax);\n",
    "\n",
    "\n",
    "\n",
    "fig.suptitle(\"Sparse times Dense Matrix: Runtimes\")\n",
    "plt.tight_layout()\n",
    "\n",
    "fig.savefig(\"spTd_runtimes.pdf\", bbox_inches=\"tight\", pad_inches=0.2)"
   ]
  },
  {
   "cell_type": "code",
   "execution_count": null,
   "metadata": {},
   "outputs": [],
   "source": [
    "fig, axs = plt.subplots(nrows=2, ncols=2, figsize=(14,12))\n",
    "\n",
    "logx, logy = True, False\n",
    "if (logx and logy):\n",
    "    plot_format = \"loglog\"\n",
    "if (logx and not logy):\n",
    "    plot_format = \"logx\"\n",
    "if (not logx and logy):\n",
    "    plot_format = \"logy\"\n",
    "else:\n",
    "    plot_format = \"linear\"\n",
    "\n",
    "print_styling();\n",
    "x = \"N\"\n",
    "axr = axs.ravel()\n",
    "i = 0\n",
    "Ks = np.array(df[\"K\"].unique())\n",
    "Ks.sort()\n",
    "for k in Ks:\n",
    "    if k%2 == 1:\n",
    "        continue\n",
    "    ax = axr[i]\n",
    "    i+=1\n",
    "    df[df[\"K\"] == k].plot(x=x, y=speedup_cols, logx=logx, logy=logy, marker=\"o\", linestyle=\"-\", ax=ax)\n",
    "    ax.plot(Ns, [1]*len(Ns), linestyle=\"--\", linewidth=4)\n",
    "    ax.legend(labels[1:]+[\"Speedup = 1\"])\n",
    "    ax.grid()\n",
    "    ax.set_title(f\"K = {k}\")\n",
    "    ax.set_xlabel(\"\")\n",
    "\n",
    "axs[0][0].set_ylabel(\"speedup\")\n",
    "axs[1][0].set_ylabel(\"speedup\")\n",
    "axs[1][0].set_xlabel(\"N\")\n",
    "axs[1][1].set_xlabel(\"N\")\n",
    "#df.plot(x=x, y=gpu_ref+[\"time_cpuref\"], logx=logx, logy=logy, linestyle=\"--\", ax=ax);\n",
    "\n",
    "axs[0][0].set_ylim([0, 2])\n",
    "\n",
    "fig.suptitle(\"Sparse times Dense Matrix: Speedup compared to single\")\n",
    "plt.tight_layout()\n",
    "\n",
    "fig.savefig(\"spTd_speedup.pdf\", bbox_inches=\"tight\", pad_inches=0.2)"
   ]
  },
  {
   "cell_type": "code",
   "execution_count": null,
   "metadata": {},
   "outputs": [],
   "source": [
    "fig, axs = plt.subplots(nrows=2, ncols=2, figsize=(14,12))\n",
    "\n",
    "logx, logy = True, True\n",
    "if (logx and logy):\n",
    "    plot_format = \"loglog\"\n",
    "if (logx and not logy):\n",
    "    plot_format = \"logx\"\n",
    "if (not logx and logy):\n",
    "    plot_format = \"logy\"\n",
    "else:\n",
    "    plot_format = \"linear\"\n",
    "\n",
    "print_styling();\n",
    "x = \"N\"\n",
    "axr = axs.ravel()\n",
    "i = 0\n",
    "Ks = np.array(df[\"K\"].unique())\n",
    "Ks.sort()\n",
    "for k in Ks:\n",
    "    if k%2 == 0:\n",
    "        continue\n",
    "    ax = axr[i]\n",
    "    i+=1\n",
    "    print(k)\n",
    "    df[df[\"K\"] == k].plot(x=x, y=time_cols, logx=logx, logy=logy, marker=\"o\", linestyle=\"-\", ax=ax)\n",
    "    ax.legend(labels)\n",
    "    ax.grid()\n",
    "    ax.set_title(f\"K = {k}\")\n",
    "    ax.set_xlabel(\"\")\n",
    "\n",
    "axs[0][0].set_ylabel(\"runtime [s]\")\n",
    "axs[1][0].set_ylabel(\"runtime [s]\")\n",
    "axs[1][0].set_xlabel(\"N\")\n",
    "axs[1][1].set_xlabel(\"N\")\n",
    "#df.plot(x=x, y=gpu_ref+[\"time_cpuref\"], logx=logx, logy=logy, linestyle=\"--\", ax=ax);\n",
    "\n",
    "\n",
    "\n",
    "fig.suptitle(\"Sparse times Dense Matrix: Runtimes\")\n",
    "plt.tight_layout()\n",
    "\n",
    "fig.savefig(\"spTd_runtimes_unevenK.pdf\", bbox_inches=\"tight\", pad_inches=0.2)"
   ]
  },
  {
   "cell_type": "code",
   "execution_count": null,
   "metadata": {},
   "outputs": [],
   "source": [
    "fig, axs = plt.subplots(nrows=2, ncols=2, figsize=(14,12))\n",
    "\n",
    "logx, logy = True, False\n",
    "if (logx and logy):\n",
    "    plot_format = \"loglog\"\n",
    "if (logx and not logy):\n",
    "    plot_format = \"logx\"\n",
    "if (not logx and logy):\n",
    "    plot_format = \"logy\"\n",
    "else:\n",
    "    plot_format = \"linear\"\n",
    "\n",
    "print_styling();\n",
    "x = \"N\"\n",
    "axr = axs.ravel()\n",
    "i = 0\n",
    "Ks = np.array(df[\"K\"].unique())\n",
    "Ks.sort()\n",
    "for k in Ks:\n",
    "    if k%2 == 0:\n",
    "        continue\n",
    "    ax = axr[i]\n",
    "    i+=1\n",
    "    df[df[\"K\"] == k].plot(x=x, y=speedup_cols, logx=logx, logy=logy, marker=\"o\", linestyle=\"-\", ax=ax)\n",
    "    ax.plot(Ns, [1]*len(Ns), linestyle=\"--\", linewidth=4)\n",
    "    ax.legend(labels[1:]+[\"Speedup = 1\"])\n",
    "    ax.grid()\n",
    "    ax.set_title(f\"K = {k}\")\n",
    "    ax.set_xlabel(\"\")\n",
    "\n",
    "axs[0][0].set_ylabel(\"speedup\")\n",
    "axs[1][0].set_ylabel(\"speedup\")\n",
    "axs[1][0].set_xlabel(\"N\")\n",
    "axs[1][1].set_xlabel(\"N\")\n",
    "#df.plot(x=x, y=gpu_ref+[\"time_cpuref\"], logx=logx, logy=logy, linestyle=\"--\", ax=ax);\n",
    "\n",
    "axs[0][0].set_ylim([0, 2])\n",
    "\n",
    "fig.suptitle(\"Sparse times Dense Matrix: Speedup compared to single\")\n",
    "plt.tight_layout()\n",
    "\n",
    "fig.savefig(\"spTd_speedup_unevenK.pdf\", bbox_inches=\"tight\", pad_inches=0.2)"
   ]
  }
 ]
}