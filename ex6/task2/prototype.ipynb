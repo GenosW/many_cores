{
 "metadata": {
  "language_info": {
   "codemirror_mode": {
    "name": "ipython",
    "version": 3
   },
   "file_extension": ".py",
   "mimetype": "text/x-python",
   "name": "python",
   "nbconvert_exporter": "python",
   "pygments_lexer": "ipython3",
   "version": "3.8.6-final"
  },
  "orig_nbformat": 2,
  "kernelspec": {
   "name": "python3",
   "display_name": "Python 3"
  }
 },
 "nbformat": 4,
 "nbformat_minor": 2,
 "cells": [
  {
   "cell_type": "code",
   "execution_count": 1,
   "metadata": {},
   "outputs": [],
   "source": [
    "import numpy as np "
   ]
  },
  {
   "cell_type": "code",
   "execution_count": 55,
   "metadata": {},
   "outputs": [
    {
     "output_type": "execute_result",
     "data": {
      "text/plain": [
       "(matrix([[0, 1, 1],\n",
       "         [0, 1, 2],\n",
       "         [0, 1, 3],\n",
       "         [0, 1, 4]]),\n",
       " matrix([[11, 12, 13],\n",
       "         [14, 15, 16],\n",
       "         [17, 18, 19]]))"
      ]
     },
     "metadata": {},
     "execution_count": 55
    }
   ],
   "source": [
    "A = [[0, 1, 1],\n",
    "     [0, 1, 2],\n",
    "     [0, 1, 3],\n",
    "     [0, 1, 4]]\n",
    "X =  [[1, 2, 3], [4, 5, 6], [7, 8, 9]]\n",
    "X = np.matrix(X) +10\n",
    "A = np.matrix(A)\n",
    "A, X"
   ]
  },
  {
   "cell_type": "code",
   "execution_count": 57,
   "metadata": {},
   "outputs": [
    {
     "output_type": "display_data",
     "data": {
      "text/plain": "matrix([[0, 1, 1],\n        [0, 1, 2],\n        [0, 1, 3],\n        [0, 1, 4]])"
     },
     "metadata": {}
    },
    {
     "output_type": "display_data",
     "data": {
      "text/plain": "matrix([[11, 12, 13],\n        [14, 15, 16],\n        [17, 18, 19]])"
     },
     "metadata": {}
    },
    {
     "output_type": "execute_result",
     "data": {
      "text/plain": [
       "matrix([[31, 33, 35],\n",
       "        [48, 51, 54],\n",
       "        [65, 69, 73],\n",
       "        [82, 87, 92]])"
      ]
     },
     "metadata": {},
     "execution_count": 57
    }
   ],
   "source": [
    "display(A, X)\n",
    "A@X"
   ]
  },
  {
   "cell_type": "code",
   "execution_count": 64,
   "metadata": {},
   "outputs": [
    {
     "output_type": "execute_result",
     "data": {
      "text/plain": [
       "12"
      ]
     },
     "metadata": {},
     "execution_count": 64
    }
   ],
   "source": [
    "X[0,1]"
   ]
  },
  {
   "cell_type": "code",
   "execution_count": 62,
   "metadata": {},
   "outputs": [
    {
     "output_type": "stream",
     "name": "stdout",
     "text": [
      "0 * 11 + \n0 * 12 + \n0 * 13 + \n1 * 14 + \n1 * 15 + \n1 * 16 + \n1 * 17 + \n1 * 18 + \n1 * 19 + \n0 * 11 + \n0 * 12 + \n0 * 13 + \n1 * 14 + \n1 * 15 + \n1 * 16 + \n2 * 17 + \n2 * 18 + \n2 * 19 + \n0 * 11 + \n0 * 12 + \n0 * 13 + \n1 * 14 + \n1 * 15 + \n1 * 16 + \n3 * 17 + \n3 * 18 + \n3 * 19 + \n"
     ]
    },
    {
     "output_type": "execute_result",
     "data": {
      "text/plain": [
       "[[144, 153, 162], [144, 153, 162], [144, 153, 162], [144, 153, 162]]"
      ]
     },
     "metadata": {},
     "execution_count": 62
    }
   ],
   "source": [
    "#row = 0\n",
    "Y = [[0]*3]*4\n",
    "for row in range(4):\n",
    "    for col in range(3):\n",
    "        print(f\"{a} * {ele} + \")\n",
    "\n",
    "Y"
   ]
  },
  {
   "cell_type": "code",
   "execution_count": null,
   "metadata": {},
   "outputs": [],
   "source": []
  }
 ]
}