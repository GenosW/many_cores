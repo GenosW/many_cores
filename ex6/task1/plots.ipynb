{
 "metadata": {
  "language_info": {
   "codemirror_mode": {
    "name": "ipython",
    "version": 3
   },
   "file_extension": ".py",
   "mimetype": "text/x-python",
   "name": "python",
   "nbconvert_exporter": "python",
   "pygments_lexer": "ipython3",
   "version": "3.8.6-final"
  },
  "orig_nbformat": 2,
  "kernelspec": {
   "name": "python3",
   "display_name": "Python 3"
  }
 },
 "nbformat": 4,
 "nbformat_minor": 2,
 "cells": [
  {
   "source": [
    "# CUDA exercises"
   ],
   "cell_type": "markdown",
   "metadata": {}
  },
  {
   "cell_type": "code",
   "execution_count": null,
   "metadata": {},
   "outputs": [],
   "source": [
    "import numpy as np \n",
    "import pandas as pd \n",
    "import matplotlib.pyplot as plt\n",
    "import seaborn as sns\n",
    "from matplotlib import rcParams\n",
    "import itertools\n",
    "%matplotlib inline\n",
    "\n",
    "from IPython.display import display"
   ]
  },
  {
   "cell_type": "code",
   "execution_count": null,
   "metadata": {},
   "outputs": [],
   "source": [
    "def csv_parse(path, header=False, sep=\";\"):\n",
    "    if header:\n",
    "        df = pd.read_csv(path, sep=sep, names=header)\n",
    "    else:\n",
    "        df = pd.read_csv(path, sep=sep)\n",
    "    #display(df.head())\n",
    "    return df\n",
    "\n"
   ]
  },
  {
   "cell_type": "code",
   "execution_count": null,
   "metadata": {},
   "outputs": [],
   "source": [
    "def calcGB_Stride(df):\n",
    "    return 3*8* df[\"N\"]/df[\"k\"] /1e9\n",
    "\n",
    "def calcGB_Offset(df):\n",
    "    return 3*8* (df[\"N\"]-df[\"k\"])/1e9\n",
    "\n",
    "def transform_to_ms(df, cols):\n",
    "    return df[cols]*1e3\n"
   ]
  },
  {
   "source": [
    "# Ex6.1 Warps"
   ],
   "cell_type": "markdown",
   "metadata": {}
  },
  {
   "cell_type": "code",
   "execution_count": null,
   "metadata": {},
   "outputs": [],
   "source": [
    "df = csv_parse(\"data/ph_data.csv\", header=False)\n",
    "df[\"time_dot*8\"] = df[\"time_dot\"]*8\n",
    "display(df)"
   ]
  },
  {
   "cell_type": "code",
   "execution_count": null,
   "metadata": {},
   "outputs": [],
   "source": [
    "cols = df.columns\n",
    "times_cols = list(filter(lambda x: x not in [\"N\", \"k\"], cols))\n",
    "\n",
    "cols, times_cols"
   ]
  },
  {
   "cell_type": "code",
   "execution_count": null,
   "metadata": {},
   "outputs": [],
   "source": [
    "cpu_cols = list(filter(lambda x: \"cpu\" in x, times_cols))\n",
    "gpu_cols = list(filter(lambda x: \"cpu\" not in x, times_cols))\n",
    "\n",
    "cpu_cols, gpu_cols"
   ]
  },
  {
   "cell_type": "code",
   "execution_count": null,
   "metadata": {},
   "outputs": [],
   "source": [
    "gpu_ref = [\"time_dot\", \"time_dot*8\",\"time_cublas\"]\n",
    "shared_cols = [\"time_shared\"]\n",
    "warp_cols = list(filter(lambda x: \"warp\" in x, times_cols))\n",
    "warp_cols, gpu_ref"
   ]
  },
  {
   "cell_type": "code",
   "execution_count": null,
   "metadata": {},
   "outputs": [],
   "source": [
    "labels = [\"time_shared\", \"warp\", \"warp_adapt\", \"dot\", \"dot*8\", \"cublas\", \"cpu_ref\"]\n",
    "labels"
   ]
  },
  {
   "cell_type": "code",
   "execution_count": null,
   "metadata": {},
   "outputs": [],
   "source": [
    "def print_styling():\n",
    "\n",
    "    plt.rc('figure', figsize=(14,8)) \n",
    "    SMALL_SIZE = 15\n",
    "    MEDIUM_SIZE = 18\n",
    "    BIGGER_SIZE = 26\n",
    "\n",
    "    plt.rc('font', size=SMALL_SIZE)          # controls default text sizes\n",
    "\n",
    "    plt.rc('xtick', labelsize=SMALL_SIZE)    # fontsize of the tick labels\n",
    "    plt.rc('ytick', labelsize=SMALL_SIZE)    # fontsize of the tick labels\n",
    "    plt.rc('axes', titlesize=MEDIUM_SIZE)     # fontsize of the axes title\n",
    "    plt.rc('axes', labelsize=MEDIUM_SIZE)    # fontsize of the x and y labels\n",
    "    \n",
    "    plt.rc('legend', fontsize=SMALL_SIZE)    # legend fontsize\n",
    "    plt.rc('figure', titlesize=BIGGER_SIZE)  # fontsize of the figure title"
   ]
  },
  {
   "cell_type": "code",
   "execution_count": null,
   "metadata": {},
   "outputs": [],
   "source": [
    "fig, ax = plt.subplots()\n",
    "\n",
    "logx, logy = True, True\n",
    "if (logx and logy):\n",
    "    plot_format = \"loglog\"\n",
    "if (logx and not logy):\n",
    "    plot_format = \"logx\"\n",
    "if (not logx and logy):\n",
    "    plot_format = \"logy\"\n",
    "else:\n",
    "    plot_format = \"linear\"\n",
    "\n",
    "print_styling();\n",
    "x = \"N\"\n",
    "df.plot(x=x, y=shared_cols+warp_cols, logx=logx, logy=logy, marker=\"o\", linestyle=\"-\", ax=ax);\n",
    "df.plot(x=x, y=gpu_ref+[\"time_cpuref\"], logx=logx, logy=logy, linestyle=\"--\", ax=ax);\n",
    "\n",
    "\n",
    "\n",
    "fig.suptitle(\"Vector analysis runtime comparison\")\n",
    "plt.tight_layout()\n",
    "ax.set_ylabel(\"runtime [s]\")\n",
    "\n",
    "ax.legend(labels)\n",
    "\n",
    "ax.grid()\n",
    "\n",
    "fig.savefig(\"vec_analysis_allN.pdf\", bbox_inches=\"tight\", pad_inches=0.2)"
   ]
  },
  {
   "cell_type": "code",
   "execution_count": null,
   "metadata": {},
   "outputs": [],
   "source": [
    "fig, axs = plt.subplots(ncols=2)\n",
    "\n",
    "logx, logy = True, True\n",
    "if (logx and logy):\n",
    "    plot_format = \"loglog\"\n",
    "if (logx and not logy):\n",
    "    plot_format = \"logx\"\n",
    "if (not logx and logy):\n",
    "    plot_format = \"logy\"\n",
    "else:\n",
    "    plot_format = \"linear\"\n",
    "\n",
    "print_styling();\n",
    "x = \"N\"\n",
    "Nmax = 1e5\n",
    "df[df[\"N\"] <= Nmax].plot(x=x, y=shared_cols+warp_cols, logx=logx, logy=logy, marker=\"o\", linestyle=\"-\", ax=axs[0]);\n",
    "df[df[\"N\"] <= Nmax].plot(x=x, y=gpu_ref+[\"time_cpuref\"], logx=logx, logy=logy, linestyle=\"--\", ax=axs[0]);\n",
    "\n",
    "Nmin = 1e4\n",
    "df[df[\"N\"] >= Nmin].plot(x=x, y=shared_cols+warp_cols, logx=logx, logy=logy, marker=\"o\", linestyle=\"-\", ax=axs[1]);\n",
    "df[df[\"N\"] >= Nmin].plot(x=x, y=gpu_ref, logx=logx, logy=logy, linestyle=\"--\", ax=axs[1]);\n",
    "\n",
    "\n",
    "fig.suptitle(\"Vector analysis runtime comparison\")\n",
    "plt.tight_layout()\n",
    "axs[0].set_ylabel(\"runtime [s]\")\n",
    "\n",
    "axs[0].legend(labels)\n",
    "axs[1].legend(labels[:-1])\n",
    "\n",
    "for ax in axs.ravel():\n",
    "    #ax.legend(labels)\n",
    "    ax.grid()\n",
    "\n",
    "fig.savefig(\"vec_analysis_partiotionedN.pdf\", bbox_inches=\"tight\", pad_inches=0.2)"
   ]
  },
  {
   "cell_type": "code",
   "execution_count": null,
   "metadata": {},
   "outputs": [],
   "source": []
  }
 ]
}