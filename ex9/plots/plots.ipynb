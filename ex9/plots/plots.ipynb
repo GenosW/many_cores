{
 "metadata": {
  "language_info": {
   "codemirror_mode": {
    "name": "ipython",
    "version": 3
   },
   "file_extension": ".py",
   "mimetype": "text/x-python",
   "name": "python",
   "nbconvert_exporter": "python",
   "pygments_lexer": "ipython3",
   "version": "3.8.6-final"
  },
  "orig_nbformat": 2,
  "kernelspec": {
   "name": "python3",
   "display_name": "Python 3",
   "language": "python"
  }
 },
 "nbformat": 4,
 "nbformat_minor": 2,
 "cells": [
  {
   "source": [
    "# ManyCores exercises"
   ],
   "cell_type": "markdown",
   "metadata": {}
  },
  {
   "cell_type": "code",
   "execution_count": null,
   "metadata": {},
   "outputs": [],
   "source": [
    "import numpy as np \n",
    "import pandas as pd \n",
    "import matplotlib.pyplot as plt\n",
    "import seaborn as sns\n",
    "import pathlib\n",
    "from matplotlib import rcParams\n",
    "import itertools\n",
    "%matplotlib inline\n",
    "\n",
    "from IPython.display import display"
   ]
  },
  {
   "cell_type": "code",
   "execution_count": null,
   "metadata": {},
   "outputs": [],
   "source": [
    "def csv_parse(path, header=False, sep=\";\"):\n",
    "    if header:\n",
    "        df = pd.read_csv(path, sep=sep, names=header)\n",
    "    else:\n",
    "        df = pd.read_csv(path, sep=sep)\n",
    "    #display(df.head())\n",
    "    return df\n",
    "\n",
    "def load_glob(glob, concat=True):\n",
    "    liste = [pd.read_csv(file) for file in glob]\n",
    "    name = [file for file in glob]\n",
    "    repr(name)\n",
    "    if concat:\n",
    "        return pd.concat(liste)\n",
    "    return liste, name"
   ]
  },
  {
   "cell_type": "code",
   "execution_count": null,
   "metadata": {},
   "outputs": [],
   "source": [
    "def transform_to_ms(df, cols):\n",
    "    return df[cols]*1e3\n",
    "\n",
    "def bandwidth(df, cols):\n",
    "    for x in cols:\n",
    "        df[\"bw_\"+x] = 2 * df[\"N\"]*df[\"N\"]* 8 / df[x] * 1e-9\n",
    "    return df"
   ]
  },
  {
   "source": [
    "# Ex9.1"
   ],
   "cell_type": "markdown",
   "metadata": {}
  },
  {
   "cell_type": "code",
   "execution_count": null,
   "metadata": {},
   "outputs": [],
   "source": [
    "# Get the data\n",
    "cwd = pathlib.Path(os.getcwd())\n",
    "data_subdir = cwd.parent / \"data\"\n",
    "plot_dir = cwd / \"out\"\n",
    "data_subdir, plot_dir"
   ]
  },
  {
   "cell_type": "code",
   "execution_count": null,
   "metadata": {},
   "outputs": [],
   "source": [
    "def drop_cols(df):\n",
    "    to_drop = [x for x in df.columns if x not in [\"N\", \"runtime\"]]\n",
    "    return df.drop(to_drop, axis=\"columns\")\n"
   ]
  },
  {
   "cell_type": "code",
   "execution_count": null,
   "metadata": {},
   "outputs": [],
   "source": [
    "df_omp = csv_parse(data_subdir / \"ph_data_omp.csv\")\n",
    "ks = df_omp[\"k\"]\n",
    "\n",
    "df_ocl = csv_parse(data_subdir / \"ph_data_mykernel_ocl.csv\")\n",
    "df_ocl = df_ocl.rename(columns={\"dot_time\": \"runtime\"})\n",
    "df_ocl = drop_cols(df_ocl)\n",
    "df_ocl.insert(1, column=\"k\", value=ks)\n",
    "\n",
    "df_cuda = csv_parse(data_subdir / \"ph_data_mykernel_cuda.csv\")\n",
    "df_cuda = df_cuda.rename(columns={\"dot_time\": \"runtime\"})\n",
    "df_cuda = drop_cols(df_cuda)\n",
    "df_cuda.insert(1, column=\"k\", value=ks)\n",
    "\n",
    "df = df_omp.rename(columns={\"runtime\": \"OMP\"})\n",
    "df = df.join(df_ocl[\"runtime\"]).rename(columns={\"runtime\": \"OpenCL\"})\n",
    "df = df.join(df_cuda[\"runtime\"]).rename(columns={\"runtime\": \"CUDA\"})\n",
    "df_runtime = df\n",
    "del df\n",
    "df_runtime"
   ]
  },
  {
   "cell_type": "code",
   "execution_count": null,
   "metadata": {},
   "outputs": [],
   "source": [
    "df_speedup = df_runtime.copy()\n",
    "df_speedup[\"OpenCL\"] = df_speedup[\"OMP\"] / df_speedup[\"OpenCL\"]\n",
    "df_speedup[\"CUDA\"] = df_speedup[\"OMP\"] / df_speedup[\"CUDA\"] \n",
    "df_speedup"
   ]
  },
  {
   "cell_type": "code",
   "execution_count": null,
   "metadata": {},
   "outputs": [],
   "source": [
    "def print_styling():\n",
    "\n",
    "    plt.rc('figure', figsize=(12,8)) \n",
    "    plt.style.use(\"seaborn\")\n",
    "    #sns.set_palette(\"Paired\")\n",
    "    SMALL_SIZE = 15\n",
    "    MEDIUM_SIZE = 18\n",
    "    BIGGER_SIZE = 26\n",
    "\n",
    "    plt.rc('font', size=SMALL_SIZE)          # controls default text sizes\n",
    "    plt.rc('lines', linewidth=2)\n",
    "\n",
    "    plt.rc('xtick', labelsize=SMALL_SIZE)    # fontsize of the tick labels\n",
    "    plt.rc('ytick', labelsize=SMALL_SIZE)    # fontsize of the tick labels\n",
    "    plt.rc('axes', titlesize=MEDIUM_SIZE)     # fontsize of the axes title\n",
    "    plt.rc('axes', labelsize=MEDIUM_SIZE)    # fontsize of the x and y labels\n",
    "    \n",
    "    plt.rc('legend', fontsize=SMALL_SIZE)    # legend fontsize\n",
    "    plt.rc('figure', titlesize=BIGGER_SIZE)  # fontsize of the figure title\n",
    "print_styling()"
   ]
  },
  {
   "cell_type": "code",
   "execution_count": null,
   "metadata": {},
   "outputs": [],
   "source": [
    "fig, axs = plt.subplots(ncols=2, figsize=(12,8))\n",
    "print_styling()\n",
    "axs = axs.ravel()\n",
    "axL = axs[0]\n",
    "axR = axs[1]\n",
    "\n",
    "logx, logy = True, True\n",
    "if (logx and logy):\n",
    "    plot_format = \"loglog\"\n",
    "if (logx and not logy):\n",
    "    plot_format = \"logx\"\n",
    "if (not logx and logy):\n",
    "    plot_format = \"logy\"\n",
    "else:\n",
    "    plot_format = \"linear\"\n",
    "\n",
    "df_runtime.plot(x=\"N\", y=[\"OMP\", \"OpenCL\", \"CUDA\"], ax=axL, logx=logx, logy=logy)\n",
    "df_speedup.plot(x=\"N\", y=[\"OpenCL\", \"CUDA\"], ax=axR, logx=logx, logy=logy)\n",
    "\n",
    "axL.set_ylabel(\"runtime [s]\")\n",
    "\n",
    "axL.set_title(\"Runtime\")\n",
    "axR.set_title(\"Speedup\")\n",
    "\n",
    "plt.suptitle(\"OMP vs OpenCL vs CUDA\")\n",
    "plt.tight_layout()\n",
    "fig.savefig(plot_dir / \"omp_vs_cuda_vs_opencl.pdf\", bbox_inches=\"tight\", pad_inches=0.2)"
   ]
  },
  {
   "source": [
    "# Task 2: Transpose"
   ],
   "cell_type": "markdown",
   "metadata": {}
  },
  {
   "cell_type": "code",
   "execution_count": null,
   "metadata": {},
   "outputs": [],
   "source": [
    "df = csv_parse(data_subdir / \"ph_data_transpose.csv\")\n",
    "df_speedup = df[[\"N\", \"naive\", \"my_block\", \"nv_block\"]]\n",
    "rt_cols = [\"naive\", \"my_block\", \"nv_block\"]\n",
    "\n",
    "for version in [\"my_block\", \"nv_block\"]:\n",
    "    df_speedup[version] = df_speedup[version] / df_speedup[\"naive\"]\n",
    "df = bandwidth(df, [\"naive\", \"my_block\", \"nv_block\"])\n",
    "df_bw = df[[\"N\", \"bw_naive\", \"bw_my_block\", \"bw_nv_block\"]]\n",
    "bw_cols = [\"bw_naive\", \"bw_my_block\", \"bw_nv_block\"]\n",
    "\n",
    "df"
   ]
  },
  {
   "cell_type": "code",
   "execution_count": null,
   "metadata": {},
   "outputs": [],
   "source": [
    "fig, axs = plt.subplots(ncols=2, figsize=(12,8))\n",
    "print_styling()\n",
    "axs = axs.ravel()\n",
    "axL = axs[0]\n",
    "axR = axs[1]\n",
    "\n",
    "logx, logy = True, True\n",
    "if (logx and logy):\n",
    "    plot_format = \"loglog\"\n",
    "if (logx and not logy):\n",
    "    plot_format = \"logx\"\n",
    "if (not logx and logy):\n",
    "    plot_format = \"logy\"\n",
    "else:\n",
    "    plot_format = \"linear\"\n",
    "\n",
    "df.plot(x=\"N\", y=rt_cols, ax=axL, logx=logx, logy=logy, marker=\"o\")\n",
    "df_bw.plot(x=\"N\", y=bw_cols, ax=axR, logx=logx, logy=logy, marker=\"o\")\n",
    "#df_speedup.plot(x=\"N\", y=[\"my_block\", \"nv_block\"], ax=axR, logx=logx, logy=logy)\n",
    "\n",
    "axL.set_xscale(\"log\", base=2)\n",
    "axL.set_xticklabels([0,1,512, 1024, 2048, 4096, 8192])\n",
    "axR.set_xscale(\"log\", base=2)\n",
    "axR.set_xticklabels([0,1,512, 1024, 2048, 4096, 8192])\n",
    "\n",
    "axL.set_ylabel(\"runtime [s]\")\n",
    "axR.set_ylabel(\"bandwith [GB/s]\")\n",
    "axR.set_yticklabels([1,2,10, 100])\n",
    "\n",
    "axL.set_title(\"Runtime\")\n",
    "axR.set_title(\"Bandwidth\")\n",
    "\n",
    "axR.legend(rt_cols)\n",
    "\n",
    "plt.suptitle(\"Transpose\")\n",
    "plt.tight_layout()\n",
    "fig.savefig(plot_dir / \"transpose.pdf\", bbox_inches=\"tight\", pad_inches=0.2)"
   ]
  },
  {
   "cell_type": "code",
   "execution_count": null,
   "metadata": {},
   "outputs": [],
   "source": []
  }
 ]
}