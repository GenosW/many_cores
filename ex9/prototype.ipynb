{
 "metadata": {
  "language_info": {
   "codemirror_mode": {
    "name": "ipython",
    "version": 3
   },
   "file_extension": ".py",
   "mimetype": "text/x-python",
   "name": "python",
   "nbconvert_exporter": "python",
   "pygments_lexer": "ipython3",
   "version": "3.8.6-final"
  },
  "orig_nbformat": 2,
  "kernelspec": {
   "name": "python3",
   "display_name": "Python 3",
   "language": "python"
  }
 },
 "nbformat": 4,
 "nbformat_minor": 2,
 "cells": [
  {
   "cell_type": "code",
   "execution_count": null,
   "metadata": {},
   "outputs": [],
   "source": [
    "import numpy as np"
   ]
  },
  {
   "cell_type": "code",
   "execution_count": null,
   "metadata": {},
   "outputs": [],
   "source": [
    "TILE_DIM = 4\n",
    "gridDim = 2\n",
    "BLOCK_ROWS = 1\n",
    "\n",
    "def transpose(mat, N, thParams, tile_ur, tile_ll):\n",
    "    threadId, blockId_x, blockId_y = thParams\n",
    "    A = mat.copy()\n",
    "    A = A.ravel()\n",
    "\n",
    "    x = blockId_x * TILE_DIM\n",
    "    y = blockId_y * TILE_DIM\n",
    "\n",
    "    is_ondiag = True if x==y else False\n",
    "    print(f\"ondiag: {is_ondiag}\")\n",
    "\n",
    "    if is_ondiag:\n",
    "        j = 0\n",
    "        while(j < TILE_DIM):\n",
    "            tile_ur[j, threadId] = A[(y + threadId)*N + j + x]\n",
    "            j += BLOCK_ROWS\n",
    "\n",
    "    else:\n",
    "        j = 0\n",
    "        while(j < TILE_DIM):\n",
    "            tile_ur[j, threadId] = A[(y + threadId)*N + j + x]\n",
    "            tile_ll[j, threadId] = A[(x + threadId)*N + j + y]\n",
    "            j += BLOCK_ROWS\n",
    "        \n",
    "\n",
    "def transpose_enplace(mat, N, thParams, tile_ur, tile_ll):\n",
    "    threadId, blockId_x, blockId_y = thParams\n",
    "    A = mat.copy()\n",
    "    A = A.ravel()\n",
    "\n",
    "    x = blockId_x * TILE_DIM\n",
    "    y = blockId_y * TILE_DIM\n",
    "\n",
    "    ur_cp = tile_ur.copy()\n",
    "    ur_cp = ur_cp.ravel()\n",
    "\n",
    "    is_ondiag = True if x==y else False\n",
    "    if is_ondiag:\n",
    "        j = 0\n",
    "        while(j < TILE_DIM):\n",
    "            #A[(y + threadId)*N + j + x] = tile_ur[threadId, j]\n",
    "            A[(y + threadId)*N + j + x] = ur_cp[threadId*TILE_DIM + j]\n",
    "            j += BLOCK_ROWS\n",
    "\n",
    "    else:\n",
    "        ll_cp = tile_ll.copy()\n",
    "        ll_cp = ll_cp.ravel()\n",
    "\n",
    "        j = 0\n",
    "        while(j < TILE_DIM):\n",
    "            A[(y + threadId)*N + j + x] = ll_cp[threadId*TILE_DIM + j]\n",
    "            A[(x + threadId)*N + j + y] = ur_cp[threadId*TILE_DIM + j]\n",
    "            j += BLOCK_ROWS\n",
    "        \n",
    "    return A.reshape((N, N))"
   ]
  },
  {
   "cell_type": "code",
   "execution_count": null,
   "metadata": {},
   "outputs": [],
   "source": [
    "N = 8\n",
    "A = np.array([i for i in range(N*N)])\n",
    "A = A.reshape((N,N))\n",
    "\n",
    "AT = A.transpose()\n",
    "\n",
    "display(A)\n",
    "for blockId_x, blockId_y in [(0,0), (1,0), (1,1)]:\n",
    "    print(f\"Block: ({blockId_x}, {blockId_y})\")\n",
    "    tile_ur = np.zeros((TILE_DIM,TILE_DIM))\n",
    "    tile_ll = np.zeros((TILE_DIM,TILE_DIM))\n",
    "    for i in range(4):\n",
    "        threadId = i\n",
    "        thParams = threadId, blockId_x, blockId_y \n",
    "        transpose(A, N, thParams, tile_ur, tile_ll);\n",
    "    display(tile_ur)\n",
    "    for i in range(4):\n",
    "        threadId = i\n",
    "        thParams = threadId, blockId_x, blockId_y \n",
    "        A = transpose_enplace(A, N, thParams, tile_ur, tile_ll);\n",
    "    display(A)\n",
    "    #display(tile_ll)"
   ]
  },
  {
   "cell_type": "code",
   "execution_count": null,
   "metadata": {},
   "outputs": [],
   "source": [
    "np.array_equal(A, AT)"
   ]
  },
  {
   "cell_type": "code",
   "execution_count": null,
   "metadata": {},
   "outputs": [],
   "source": []
  }
 ]
}