{
 "metadata": {
  "language_info": {
   "codemirror_mode": {
    "name": "ipython",
    "version": 3
   },
   "file_extension": ".py",
   "mimetype": "text/x-python",
   "name": "python",
   "nbconvert_exporter": "python",
   "pygments_lexer": "ipython3",
   "version": "3.8.6-final"
  },
  "orig_nbformat": 2,
  "kernelspec": {
   "name": "python3",
   "display_name": "Python 3",
   "language": "python"
  }
 },
 "nbformat": 4,
 "nbformat_minor": 2,
 "cells": [
  {
   "source": [
    "# ManyCores exercises"
   ],
   "cell_type": "markdown",
   "metadata": {}
  },
  {
   "cell_type": "code",
   "execution_count": null,
   "metadata": {},
   "outputs": [],
   "source": [
    "import numpy as np \n",
    "import pandas as pd \n",
    "import matplotlib.pyplot as plt\n",
    "import seaborn as sns\n",
    "import pathlib\n",
    "from matplotlib import rcParams\n",
    "import itertools\n",
    "%matplotlib inline\n",
    "\n",
    "from IPython.display import display"
   ]
  },
  {
   "cell_type": "code",
   "execution_count": null,
   "metadata": {},
   "outputs": [],
   "source": [
    "def csv_parse(path, header=False, sep=\";\"):\n",
    "    if header:\n",
    "        df = pd.read_csv(path, sep=sep, names=header)\n",
    "    else:\n",
    "        df = pd.read_csv(path, sep=sep)\n",
    "    #display(df.head())\n",
    "    return df\n",
    "\n",
    "def load_glob(glob, concat=True):\n",
    "    liste = [pd.read_csv(file) for file in glob]\n",
    "    name = [file for file in glob]\n",
    "    repr(name)\n",
    "    if concat:\n",
    "        return pd.concat(liste)\n",
    "    return liste, name"
   ]
  },
  {
   "cell_type": "code",
   "execution_count": null,
   "metadata": {},
   "outputs": [],
   "source": [
    "def transform_to_ms(df, cols):\n",
    "    return df[cols]*1e3\n",
    "\n",
    "def bandwidth(df, cols):\n",
    "    for x in cols:\n",
    "        df[\"bw_\"+x] = 2 * df[\"N\"]*df[\"N\"]* 8 / df[x] * 1e-9\n",
    "    return df"
   ]
  },
  {
   "source": [
    "# Ex10.1"
   ],
   "cell_type": "markdown",
   "metadata": {}
  },
  {
   "cell_type": "code",
   "execution_count": null,
   "metadata": {},
   "outputs": [],
   "source": [
    "# Get the data\n",
    "cwd = pathlib.Path(os.getcwd())\n",
    "data_subdir = cwd.parent / \"data\"\n",
    "plot_dir = cwd / \"out\"\n",
    "data_subdir, plot_dir"
   ]
  },
  {
   "cell_type": "code",
   "execution_count": null,
   "metadata": {},
   "outputs": [],
   "source": [
    "df_hip = csv_parse(data_subdir / \"ph_data_hip.csv\")\n",
    "df_cuda = csv_parse(data_subdir / \"ph_data_cuda.csv\")\n",
    "display(df_hip)\n",
    "df_cuda "
   ]
  },
  {
   "cell_type": "code",
   "execution_count": null,
   "metadata": {},
   "outputs": [],
   "source": [
    "df_speedup = df_hip.copy()\n",
    "df_speedup[\"speedup\"] = df_speedup[\"runtime\"] / df_cuda[\"runtime\"]\n",
    "df_speedup"
   ]
  },
  {
   "cell_type": "code",
   "execution_count": null,
   "metadata": {},
   "outputs": [],
   "source": [
    "def print_styling():\n",
    "\n",
    "    plt.rc('figure', figsize=(12,8)) \n",
    "    plt.style.use(\"seaborn\")\n",
    "    #sns.set_palette(\"Paired\")\n",
    "    SMALL_SIZE = 15\n",
    "    MEDIUM_SIZE = 18\n",
    "    BIGGER_SIZE = 26\n",
    "\n",
    "    plt.rc('font', size=SMALL_SIZE)          # controls default text sizes\n",
    "    plt.rc('lines', linewidth=2)\n",
    "\n",
    "    plt.rc('xtick', labelsize=SMALL_SIZE)    # fontsize of the tick labels\n",
    "    plt.rc('ytick', labelsize=SMALL_SIZE)    # fontsize of the tick labels\n",
    "    plt.rc('axes', titlesize=MEDIUM_SIZE)     # fontsize of the axes title\n",
    "    plt.rc('axes', labelsize=MEDIUM_SIZE)    # fontsize of the x and y labels\n",
    "    \n",
    "    plt.rc('legend', fontsize=SMALL_SIZE)    # legend fontsize\n",
    "    plt.rc('figure', titlesize=BIGGER_SIZE)  # fontsize of the figure title\n",
    "print_styling()"
   ]
  },
  {
   "cell_type": "code",
   "execution_count": null,
   "metadata": {},
   "outputs": [],
   "source": [
    "fig, axs = plt.subplots(ncols=2, figsize=(12,8))\n",
    "print_styling()\n",
    "axs = axs.ravel()\n",
    "axL = axs[0]\n",
    "axR = axs[1]\n",
    "\n",
    "logx, logy = True, True\n",
    "if (logx and logy):\n",
    "    plot_format = \"loglog\"\n",
    "if (logx and not logy):\n",
    "    plot_format = \"logx\"\n",
    "if (not logx and logy):\n",
    "    plot_format = \"logy\"\n",
    "else:\n",
    "    plot_format = \"linear\"\n",
    "\n",
    "df_hip.plot(x=\"N\", y=[\"runtime\"], ax=axL, logx=logx, logy=logy, marker=\"s\", ms=10, ls=\"--\")\n",
    "df_cuda.plot(x=\"N\", y=[\"runtime\"], ax=axL, logx=logx, logy=logy, marker=\"p\",ls=\"--\")\n",
    "df_speedup.plot(x=\"N\", y=[\"speedup\"], ax=axR, logx=logx, logy=False, marker=\"o\")\n",
    "\n",
    "axL.set_ylabel(\"runtime [s]\")\n",
    "axR.set_ylabel(\"speedup [hip/cuda]\")\n",
    "\n",
    "axL.set_title(\"Runtime\")\n",
    "axR.set_title(\"Speedup (HIP/CUDA)\")\n",
    "\n",
    "axL.legend([\"HIP\", \"CUDA\"])\n",
    "axR.legend([\"HIP / CUDA\"])\n",
    "\n",
    "plt.suptitle(\"HIP (CUDA) vs pure CUDA\")\n",
    "plt.tight_layout()\n",
    "fig.savefig(plot_dir / \"hip_vs_cuda.pdf\", bbox_inches=\"tight\", pad_inches=0.2)"
   ]
  },
  {
   "cell_type": "code",
   "execution_count": null,
   "metadata": {},
   "outputs": [],
   "source": [
    "fig, axs = plt.subplots(ncols=2, figsize=(12,8))\n",
    "print_styling()\n",
    "axs = axs.ravel()\n",
    "axL = axs[0]\n",
    "axR = axs[1]\n",
    "\n",
    "logx, logy = True, True\n",
    "if (logx and logy):\n",
    "    plot_format = \"loglog\"\n",
    "if (logx and not logy):\n",
    "    plot_format = \"logx\"\n",
    "if (not logx and logy):\n",
    "    plot_format = \"logy\"\n",
    "else:\n",
    "    plot_format = \"linear\"\n",
    "\n",
    "df_hip.plot(x=\"N\", y=[\"iterations\"], ax=axL, logx=logx, logy=logy, marker=\"s\", ms=10, ls=\"\")\n",
    "df_cuda.plot(x=\"N\", y=[\"iterations\"], ax=axL, logx=logx, logy=logy, marker=\"p\", ls=\"--\")\n",
    "df_hip.plot(x=\"N\", y=[\"residual\"], ax=axR, logx=logx, logy=logy, marker=\"s\", ms=10, ls=\"\")\n",
    "df_cuda.plot(x=\"N\", y=[\"residual\"], ax=axR, logx=logx, logy=logy, marker=\"p\", ls=\"--\")\n",
    "\n",
    "axL.set_ylabel(\"iterations # \")\n",
    "axR.set_ylabel(\"relative residual\")\n",
    "\n",
    "axL.set_title(\"Iterations needed\")\n",
    "axR.set_title(\"Residual\")\n",
    "\n",
    "axL.legend([\"HIP\", \"CUDA\"])\n",
    "axR.legend([\"HIP\", \"CUDA\"])\n",
    "\n",
    "plt.suptitle(\"HIP (CUDA) vs pure CUDA\")\n",
    "plt.tight_layout()\n",
    "fig.savefig(plot_dir / \"hip_vs_cuda_iter+res.pdf\", bbox_inches=\"tight\", pad_inches=0.2)"
   ]
  },
  {
   "source": [
    "# Task 2: Transpose"
   ],
   "cell_type": "markdown",
   "metadata": {}
  },
  {
   "cell_type": "code",
   "execution_count": null,
   "metadata": {},
   "outputs": [],
   "source": [
    "df_host = csv_parse(data_subdir / \"ph_data_host.csv\")\n",
    "df_sycl = csv_parse(data_subdir / \"ph_data_sycl.csv\")\n",
    "df_host[\"runtime/iter\"] = df_host[\"runtime\"] / df_host[\"iterations\"]\n",
    "df_sycl[\"runtime/iter\"] = df_sycl[\"runtime\"] / df_sycl[\"iterations\"]\n",
    "display(df_host)\n",
    "df_sycl "
   ]
  },
  {
   "cell_type": "code",
   "execution_count": null,
   "metadata": {},
   "outputs": [],
   "source": [
    "print(df_host.to_latex())"
   ]
  },
  {
   "cell_type": "code",
   "execution_count": null,
   "metadata": {},
   "outputs": [],
   "source": [
    "print(df_sycl.to_latex())"
   ]
  },
  {
   "cell_type": "code",
   "execution_count": null,
   "metadata": {},
   "outputs": [],
   "source": [
    "fig, axs = plt.subplots(ncols=2, figsize=(12,8))\n",
    "print_styling()\n",
    "axs = axs.ravel()\n",
    "axL = axs[0]\n",
    "axR = axs[1]\n",
    "\n",
    "logx, logy = True, True\n",
    "if (logx and logy):\n",
    "    plot_format = \"loglog\"\n",
    "if (logx and not logy):\n",
    "    plot_format = \"logx\"\n",
    "if (not logx and logy):\n",
    "    plot_format = \"logy\"\n",
    "else:\n",
    "    plot_format = \"linear\"\n",
    "\n",
    "df_host.plot(x=\"N\", y=[\"runtime\"], ax=axL, logx=logx, logy=logy, marker=\"s\", ms=10, ls=\"--\")\n",
    "df_sycl.plot(x=\"N\", y=[\"runtime\"], ax=axL, logx=logx, logy=logy, marker=\"p\",ls=\"--\")\n",
    "df_host.plot(x=\"N\", y=[\"runtime/iter\"], ax=axR, logx=logx, logy=logy, marker=\"s\", ms=10, ls=\"--\")\n",
    "df_sycl.plot(x=\"N\", y=[\"runtime/iter\"], ax=axR, logx=logx, logy=logy, marker=\"p\",ls=\"--\")\n",
    "\n",
    "\n",
    "axL.set_ylabel(\"runtime [s]\")\n",
    "\n",
    "axL.set_title(\"Runtime\")\n",
    "axR.set_title(\"Runtime per iteration\")\n",
    "\n",
    "axL.legend([\"Host\", \"SyCL\"])\n",
    "axR.legend([\"Host\", \"SyCL\"])\n",
    "\n",
    "plt.suptitle(\"HIP (CUDA) vs pure CUDA\")\n",
    "plt.tight_layout()\n",
    "fig.savefig(plot_dir / \"host_vs_sycl.pdf\", bbox_inches=\"tight\", pad_inches=0.2)"
   ]
  },
  {
   "cell_type": "code",
   "execution_count": null,
   "metadata": {},
   "outputs": [],
   "source": []
  }
 ]
}