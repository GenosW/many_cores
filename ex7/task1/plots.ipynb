{
 "metadata": {
  "language_info": {
   "codemirror_mode": {
    "name": "ipython",
    "version": 3
   },
   "file_extension": ".py",
   "mimetype": "text/x-python",
   "name": "python",
   "nbconvert_exporter": "python",
   "pygments_lexer": "ipython3",
   "version": "3.8.6-final"
  },
  "orig_nbformat": 2,
  "kernelspec": {
   "name": "python3",
   "display_name": "Python 3"
  }
 },
 "nbformat": 4,
 "nbformat_minor": 2,
 "cells": [
  {
   "source": [
    "# CUDA exercises"
   ],
   "cell_type": "markdown",
   "metadata": {}
  },
  {
   "cell_type": "code",
   "execution_count": null,
   "metadata": {},
   "outputs": [],
   "source": [
    "import numpy as np \n",
    "import pandas as pd \n",
    "import matplotlib.pyplot as plt\n",
    "import seaborn as sns\n",
    "from matplotlib import rcParams\n",
    "import itertools\n",
    "%matplotlib inline\n",
    "\n",
    "from IPython.display import display"
   ]
  },
  {
   "cell_type": "code",
   "execution_count": null,
   "metadata": {},
   "outputs": [],
   "source": [
    "def csv_parse(path, header=False, sep=\";\"):\n",
    "    if header:\n",
    "        df = pd.read_csv(path, sep=sep, names=header)\n",
    "    else:\n",
    "        df = pd.read_csv(path, sep=sep)\n",
    "    #display(df.head())\n",
    "    return df"
   ]
  },
  {
   "cell_type": "code",
   "execution_count": null,
   "metadata": {},
   "outputs": [],
   "source": [
    "def calcGB_Stride(df):\n",
    "    return 3*8* df[\"N\"]/df[\"k\"] /1e9\n",
    "\n",
    "def calcGB_Offset(df):\n",
    "    return 3*8* (df[\"N\"]-df[\"k\"])/1e9\n",
    "\n",
    "def transform_to_ms(df, cols):\n",
    "    return df[cols]*1e3\n"
   ]
  },
  {
   "source": [
    "# Ex7.1"
   ],
   "cell_type": "markdown",
   "metadata": {}
  },
  {
   "cell_type": "code",
   "execution_count": null,
   "metadata": {},
   "outputs": [],
   "source": [
    "def print_styling():\n",
    "\n",
    "    plt.rc('figure', figsize=(14,8)) \n",
    "    plt.style.use(\"seaborn\")\n",
    "    sns.set_palette(\"Paired\")\n",
    "    SMALL_SIZE = 15\n",
    "    MEDIUM_SIZE = 18\n",
    "    BIGGER_SIZE = 26\n",
    "\n",
    "    plt.rc('font', size=SMALL_SIZE)          # controls default text sizes\n",
    "    plt.rc('lines', linewidth=2)\n",
    "\n",
    "    plt.rc('xtick', labelsize=SMALL_SIZE)    # fontsize of the tick labels\n",
    "    plt.rc('ytick', labelsize=SMALL_SIZE)    # fontsize of the tick labels\n",
    "    plt.rc('axes', titlesize=MEDIUM_SIZE)     # fontsize of the axes title\n",
    "    plt.rc('axes', labelsize=MEDIUM_SIZE)    # fontsize of the x and y labels\n",
    "    \n",
    "    plt.rc('legend', fontsize=SMALL_SIZE)    # legend fontsize\n",
    "    plt.rc('figure', titlesize=BIGGER_SIZE)  # fontsize of the figure title\n",
    "print_styling()"
   ]
  },
  {
   "cell_type": "code",
   "execution_count": null,
   "metadata": {},
   "outputs": [],
   "source": [
    "df_CPU = csv_parse(\"data/ph_data_CPU.csv\", header=False)\n",
    "display(df_CPU)\n",
    "df_GPU = csv_parse(\"data/ph_data_GPU.csv\", header=False)\n",
    "display(df_GPU)\n",
    "df_cuda = csv_parse(\"data/data_cuda.csv\", header=False)\n",
    "display(df_cuda)\n",
    "df_cuda2 = csv_parse(\"data/data_cuda.csv\", header=False)\n",
    "display(df_cuda2)\n",
    "data = [df_CPU, df_GPU, df_cuda2]"
   ]
  },
  {
   "cell_type": "code",
   "execution_count": null,
   "metadata": {},
   "outputs": [],
   "source": [
    "fig, axs = plt.subplots(ncols=2, figsize=(14,10))\n",
    "\n",
    "logx, logy = True, True\n",
    "if (logx and logy):\n",
    "    plot_format = \"loglog\"\n",
    "if (logx and not logy):\n",
    "    plot_format = \"logx\"\n",
    "if (not logx and logy):\n",
    "    plot_format = \"logy\"\n",
    "else:\n",
    "    plot_format = \"linear\"\n",
    "\n",
    "ax = axs[0]\n",
    "ax2 = axs[1]\n",
    "\n",
    "print_styling();\n",
    "for df in data:\n",
    "    try:\n",
    "        label = df[\"target\"].unique()[0]\n",
    "    except:\n",
    "        label = \"cuda\"\n",
    "    if label == \"cuda\":\n",
    "        df.plot(x=\"N\", y=\"time_per_test\", ax=ax, logx=logx, logy=logy, label=label)\n",
    "    else:\n",
    "        df.plot(x=\"N\", y=\"total_time\", ax=ax, logx=logx, logy=logy, label=label)\n",
    "\n",
    "        to_plot = [\"ocl_time\", \"cpu_time\"]\n",
    "        to_label = [\"kernel\", \"host reduction\"]\n",
    "        markers = [\"x\", \"o\"]\n",
    "        ls = \"--\" if label==\"GPU\" else \"-\"\n",
    "        labels = [f\"{label}({x})\" for x in to_label]\n",
    "        df.plot(x=\"N\", y=to_plot, ax=ax2, logx=logx, logy=logy, label=labels, linestyle=ls, marker=\"x\")\n",
    "\n",
    "ax.set_ylabel(\"runtime [s]\")\n",
    "ax.set_title(\"Total\")\n",
    "ax.set_ylim(ax2.get_ylim())\n",
    "ax2.set_title(\"OCL time spent per part\")\n",
    "fig.suptitle(\"Dot product performances\")\n",
    "for a in axs.ravel():\n",
    "    a.grid(True)\n",
    "\n",
    "plt.tight_layout()\n",
    "fig.savefig(\"plots/ex7_runtimes.pdf\", bbox_inches=\"tight\", pad_inches=0.2)"
   ]
  },
  {
   "source": [
    "## Compilation"
   ],
   "cell_type": "markdown",
   "metadata": {}
  },
  {
   "cell_type": "code",
   "execution_count": null,
   "metadata": {},
   "outputs": [],
   "source": [
    "df = csv_parse(\"data/ph_data_compile.csv\", header=False)\n",
    "df[\"create_time_M\"] = df[\"create_time\"]*df[\"M\"]\n",
    "display(df)"
   ]
  },
  {
   "cell_type": "code",
   "execution_count": null,
   "metadata": {},
   "outputs": [],
   "source": [
    "fig, ax = plt.subplots(figsize=(10,8))\n",
    "\n",
    "logx, logy = True, True\n",
    "if (logx and logy):\n",
    "    plot_format = \"loglog\"\n",
    "if (logx and not logy):\n",
    "    plot_format = \"logx\"\n",
    "if (not logx and logy):\n",
    "    plot_format = \"logy\"\n",
    "else:\n",
    "    plot_format = \"linear\"\n",
    "\n",
    "print_styling();\n",
    "\n",
    "df.plot(x=\"M\", y=[\"compile_time\", \"create_time_M\"], ax=ax, logx=logx, logy=logy, label=[\"compilation\", \"fetch M kernels\"])\n",
    "\n",
    "ax.set_ylabel(\"runtime [s]\")\n",
    "fig.suptitle(\"OpenCL: Compilation and kernel fetch times\")\n",
    "ax.grid(True)\n",
    "\n",
    "plt.tight_layout()\n",
    "fig.savefig(\"plots/ex7_compilation.pdf\", bbox_inches=\"tight\", pad_inches=0.2)"
   ]
  },
  {
   "cell_type": "code",
   "execution_count": null,
   "metadata": {},
   "outputs": [],
   "source": []
  }
 ]
}