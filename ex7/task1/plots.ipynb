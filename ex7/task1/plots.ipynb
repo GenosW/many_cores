{
 "metadata": {
  "language_info": {
   "codemirror_mode": {
    "name": "ipython",
    "version": 3
   },
   "file_extension": ".py",
   "mimetype": "text/x-python",
   "name": "python",
   "nbconvert_exporter": "python",
   "pygments_lexer": "ipython3",
   "version": "3.8.6-final"
  },
  "orig_nbformat": 2,
  "kernelspec": {
   "name": "python3",
   "display_name": "Python 3"
  }
 },
 "nbformat": 4,
 "nbformat_minor": 2,
 "cells": [
  {
   "source": [
    "# CUDA exercises"
   ],
   "cell_type": "markdown",
   "metadata": {}
  },
  {
   "cell_type": "code",
   "execution_count": 3,
   "metadata": {},
   "outputs": [],
   "source": [
    "import numpy as np \n",
    "import pandas as pd \n",
    "import matplotlib.pyplot as plt\n",
    "import seaborn as sns\n",
    "from matplotlib import rcParams\n",
    "import itertools\n",
    "%matplotlib inline\n",
    "\n",
    "from IPython.display import display"
   ]
  },
  {
   "cell_type": "code",
   "execution_count": 1,
   "metadata": {},
   "outputs": [],
   "source": [
    "def csv_parse(path, header=False, sep=\";\"):\n",
    "    if header:\n",
    "        df = pd.read_csv(path, sep=sep, names=header)\n",
    "    else:\n",
    "        df = pd.read_csv(path, sep=sep)\n",
    "    #display(df.head())\n",
    "    return df"
   ]
  },
  {
   "cell_type": "code",
   "execution_count": 2,
   "metadata": {},
   "outputs": [],
   "source": [
    "def calcGB_Stride(df):\n",
    "    return 3*8* df[\"N\"]/df[\"k\"] /1e9\n",
    "\n",
    "def calcGB_Offset(df):\n",
    "    return 3*8* (df[\"N\"]-df[\"k\"])/1e9\n",
    "\n",
    "def transform_to_ms(df, cols):\n",
    "    return df[cols]*1e3\n"
   ]
  },
  {
   "source": [
    "# Ex7.1"
   ],
   "cell_type": "markdown",
   "metadata": {}
  },
  {
   "cell_type": "code",
   "execution_count": 8,
   "metadata": {},
   "outputs": [
    {
     "output_type": "display_data",
     "data": {
      "text/plain": "           N target  local_size  global_size  ocl_time  cpu_time  total_time  \\\n0        256    CPU         128        16384  0.000068  0.753478    0.753546   \n1       1000    CPU         128        16384  0.000055  0.756965    0.757020   \n2      10000    CPU         128        16384  0.000077  0.802797    0.802874   \n3     100000    CPU         128        16384  0.000081  0.772425    0.772506   \n4    1000000    CPU         128        16384  0.000844  0.762968    0.763812   \n5   10000000    CPU         128        16384  0.017677  0.756647    0.774324   \n6  100000000    CPU         128        16384  0.216136  0.773296    0.989432   \n\n           dot  \n0        512.0  \n1       2000.0  \n2      20000.0  \n3     200000.0  \n4    2000000.0  \n5   20000000.0  \n6  200000000.0  ",
      "text/html": "<div>\n<style scoped>\n    .dataframe tbody tr th:only-of-type {\n        vertical-align: middle;\n    }\n\n    .dataframe tbody tr th {\n        vertical-align: top;\n    }\n\n    .dataframe thead th {\n        text-align: right;\n    }\n</style>\n<table border=\"1\" class=\"dataframe\">\n  <thead>\n    <tr style=\"text-align: right;\">\n      <th></th>\n      <th>N</th>\n      <th>target</th>\n      <th>local_size</th>\n      <th>global_size</th>\n      <th>ocl_time</th>\n      <th>cpu_time</th>\n      <th>total_time</th>\n      <th>dot</th>\n    </tr>\n  </thead>\n  <tbody>\n    <tr>\n      <th>0</th>\n      <td>256</td>\n      <td>CPU</td>\n      <td>128</td>\n      <td>16384</td>\n      <td>0.000068</td>\n      <td>0.753478</td>\n      <td>0.753546</td>\n      <td>512.0</td>\n    </tr>\n    <tr>\n      <th>1</th>\n      <td>1000</td>\n      <td>CPU</td>\n      <td>128</td>\n      <td>16384</td>\n      <td>0.000055</td>\n      <td>0.756965</td>\n      <td>0.757020</td>\n      <td>2000.0</td>\n    </tr>\n    <tr>\n      <th>2</th>\n      <td>10000</td>\n      <td>CPU</td>\n      <td>128</td>\n      <td>16384</td>\n      <td>0.000077</td>\n      <td>0.802797</td>\n      <td>0.802874</td>\n      <td>20000.0</td>\n    </tr>\n    <tr>\n      <th>3</th>\n      <td>100000</td>\n      <td>CPU</td>\n      <td>128</td>\n      <td>16384</td>\n      <td>0.000081</td>\n      <td>0.772425</td>\n      <td>0.772506</td>\n      <td>200000.0</td>\n    </tr>\n    <tr>\n      <th>4</th>\n      <td>1000000</td>\n      <td>CPU</td>\n      <td>128</td>\n      <td>16384</td>\n      <td>0.000844</td>\n      <td>0.762968</td>\n      <td>0.763812</td>\n      <td>2000000.0</td>\n    </tr>\n    <tr>\n      <th>5</th>\n      <td>10000000</td>\n      <td>CPU</td>\n      <td>128</td>\n      <td>16384</td>\n      <td>0.017677</td>\n      <td>0.756647</td>\n      <td>0.774324</td>\n      <td>20000000.0</td>\n    </tr>\n    <tr>\n      <th>6</th>\n      <td>100000000</td>\n      <td>CPU</td>\n      <td>128</td>\n      <td>16384</td>\n      <td>0.216136</td>\n      <td>0.773296</td>\n      <td>0.989432</td>\n      <td>200000000.0</td>\n    </tr>\n  </tbody>\n</table>\n</div>"
     },
     "metadata": {}
    },
    {
     "output_type": "display_data",
     "data": {
      "text/plain": "           N target  local_size  global_size  ocl_time  cpu_time  total_time  \\\n0        256    GPU         128        16384  0.000026  0.728097    0.728123   \n1       1000    GPU         128        16384  0.000028  0.742840    0.742868   \n2      10000    GPU         128        16384  0.000028  0.738157    0.738185   \n3     100000    GPU         128        16384  0.000025  0.736451    0.736476   \n4    1000000    GPU         128        16384  0.000086  0.728222    0.728308   \n5   10000000    GPU         128        16384  0.000685  0.729255    0.729940   \n6  100000000    GPU         128        16384  0.006479  0.744036    0.750515   \n\n           dot  \n0        512.0  \n1       2000.0  \n2      20000.0  \n3     200000.0  \n4    2000000.0  \n5   20000000.0  \n6  200000000.0  ",
      "text/html": "<div>\n<style scoped>\n    .dataframe tbody tr th:only-of-type {\n        vertical-align: middle;\n    }\n\n    .dataframe tbody tr th {\n        vertical-align: top;\n    }\n\n    .dataframe thead th {\n        text-align: right;\n    }\n</style>\n<table border=\"1\" class=\"dataframe\">\n  <thead>\n    <tr style=\"text-align: right;\">\n      <th></th>\n      <th>N</th>\n      <th>target</th>\n      <th>local_size</th>\n      <th>global_size</th>\n      <th>ocl_time</th>\n      <th>cpu_time</th>\n      <th>total_time</th>\n      <th>dot</th>\n    </tr>\n  </thead>\n  <tbody>\n    <tr>\n      <th>0</th>\n      <td>256</td>\n      <td>GPU</td>\n      <td>128</td>\n      <td>16384</td>\n      <td>0.000026</td>\n      <td>0.728097</td>\n      <td>0.728123</td>\n      <td>512.0</td>\n    </tr>\n    <tr>\n      <th>1</th>\n      <td>1000</td>\n      <td>GPU</td>\n      <td>128</td>\n      <td>16384</td>\n      <td>0.000028</td>\n      <td>0.742840</td>\n      <td>0.742868</td>\n      <td>2000.0</td>\n    </tr>\n    <tr>\n      <th>2</th>\n      <td>10000</td>\n      <td>GPU</td>\n      <td>128</td>\n      <td>16384</td>\n      <td>0.000028</td>\n      <td>0.738157</td>\n      <td>0.738185</td>\n      <td>20000.0</td>\n    </tr>\n    <tr>\n      <th>3</th>\n      <td>100000</td>\n      <td>GPU</td>\n      <td>128</td>\n      <td>16384</td>\n      <td>0.000025</td>\n      <td>0.736451</td>\n      <td>0.736476</td>\n      <td>200000.0</td>\n    </tr>\n    <tr>\n      <th>4</th>\n      <td>1000000</td>\n      <td>GPU</td>\n      <td>128</td>\n      <td>16384</td>\n      <td>0.000086</td>\n      <td>0.728222</td>\n      <td>0.728308</td>\n      <td>2000000.0</td>\n    </tr>\n    <tr>\n      <th>5</th>\n      <td>10000000</td>\n      <td>GPU</td>\n      <td>128</td>\n      <td>16384</td>\n      <td>0.000685</td>\n      <td>0.729255</td>\n      <td>0.729940</td>\n      <td>20000000.0</td>\n    </tr>\n    <tr>\n      <th>6</th>\n      <td>100000000</td>\n      <td>GPU</td>\n      <td>128</td>\n      <td>16384</td>\n      <td>0.006479</td>\n      <td>0.744036</td>\n      <td>0.750515</td>\n      <td>200000000.0</td>\n    </tr>\n  </tbody>\n</table>\n</div>"
     },
     "metadata": {}
    },
    {
     "output_type": "display_data",
     "data": {
      "text/plain": "           N  blocks  block_size  tests_done  total_time  time_per_test  check\n0        256     256         256          10    0.408000       0.040800      0\n1       1000     256         256          10    0.432549       0.043255      0\n2      10000     256         256          10    0.396001       0.039600      0\n3     100000     256         256          10    0.428198       0.042820      0\n4    1000000     256         256          10    0.444003       0.044400      0\n5   10000000     256         256          10    0.426076       0.042608      0\n6  100000000     256         256          10    0.847996       0.084800      0",
      "text/html": "<div>\n<style scoped>\n    .dataframe tbody tr th:only-of-type {\n        vertical-align: middle;\n    }\n\n    .dataframe tbody tr th {\n        vertical-align: top;\n    }\n\n    .dataframe thead th {\n        text-align: right;\n    }\n</style>\n<table border=\"1\" class=\"dataframe\">\n  <thead>\n    <tr style=\"text-align: right;\">\n      <th></th>\n      <th>N</th>\n      <th>blocks</th>\n      <th>block_size</th>\n      <th>tests_done</th>\n      <th>total_time</th>\n      <th>time_per_test</th>\n      <th>check</th>\n    </tr>\n  </thead>\n  <tbody>\n    <tr>\n      <th>0</th>\n      <td>256</td>\n      <td>256</td>\n      <td>256</td>\n      <td>10</td>\n      <td>0.408000</td>\n      <td>0.040800</td>\n      <td>0</td>\n    </tr>\n    <tr>\n      <th>1</th>\n      <td>1000</td>\n      <td>256</td>\n      <td>256</td>\n      <td>10</td>\n      <td>0.432549</td>\n      <td>0.043255</td>\n      <td>0</td>\n    </tr>\n    <tr>\n      <th>2</th>\n      <td>10000</td>\n      <td>256</td>\n      <td>256</td>\n      <td>10</td>\n      <td>0.396001</td>\n      <td>0.039600</td>\n      <td>0</td>\n    </tr>\n    <tr>\n      <th>3</th>\n      <td>100000</td>\n      <td>256</td>\n      <td>256</td>\n      <td>10</td>\n      <td>0.428198</td>\n      <td>0.042820</td>\n      <td>0</td>\n    </tr>\n    <tr>\n      <th>4</th>\n      <td>1000000</td>\n      <td>256</td>\n      <td>256</td>\n      <td>10</td>\n      <td>0.444003</td>\n      <td>0.044400</td>\n      <td>0</td>\n    </tr>\n    <tr>\n      <th>5</th>\n      <td>10000000</td>\n      <td>256</td>\n      <td>256</td>\n      <td>10</td>\n      <td>0.426076</td>\n      <td>0.042608</td>\n      <td>0</td>\n    </tr>\n    <tr>\n      <th>6</th>\n      <td>100000000</td>\n      <td>256</td>\n      <td>256</td>\n      <td>10</td>\n      <td>0.847996</td>\n      <td>0.084800</td>\n      <td>0</td>\n    </tr>\n  </tbody>\n</table>\n</div>"
     },
     "metadata": {}
    }
   ],
   "source": [
    "df_CPU = csv_parse(\"data/ph_data_CPU.csv\", header=False)\n",
    "display(df_CPU)\n",
    "df_GPU = csv_parse(\"data/ph_data_GPU.csv\", header=False)\n",
    "display(df_GPU)\n",
    "df_cuda = csv_parse(\"data/data_cuda.csv\", header=False)\n",
    "display(df_cuda)\n",
    "data = [df_CPU, df_GPU, df_cuda]"
   ]
  },
  {
   "cell_type": "code",
   "execution_count": 9,
   "metadata": {},
   "outputs": [
    {
     "output_type": "execute_result",
     "data": {
      "text/plain": [
       "array([      256,      1000,     10000,    100000,   1000000,  10000000,\n",
       "       100000000])"
      ]
     },
     "metadata": {},
     "execution_count": 9
    }
   ],
   "source": [
    "Ns = df_CPU[\"N\"].unique()\n",
    "Ns"
   ]
  },
  {
   "cell_type": "code",
   "execution_count": 10,
   "metadata": {},
   "outputs": [],
   "source": [
    "def print_styling():\n",
    "\n",
    "    plt.rc('figure', figsize=(14,8)) \n",
    "    SMALL_SIZE = 15\n",
    "    MEDIUM_SIZE = 18\n",
    "    BIGGER_SIZE = 26\n",
    "\n",
    "    plt.rc('font', size=SMALL_SIZE)          # controls default text sizes\n",
    "    plt.rc('lines', linewidth=2)\n",
    "\n",
    "    plt.rc('xtick', labelsize=SMALL_SIZE)    # fontsize of the tick labels\n",
    "    plt.rc('ytick', labelsize=SMALL_SIZE)    # fontsize of the tick labels\n",
    "    plt.rc('axes', titlesize=MEDIUM_SIZE)     # fontsize of the axes title\n",
    "    plt.rc('axes', labelsize=MEDIUM_SIZE)    # fontsize of the x and y labels\n",
    "    \n",
    "    plt.rc('legend', fontsize=SMALL_SIZE)    # legend fontsize\n",
    "    plt.rc('figure', titlesize=BIGGER_SIZE)  # fontsize of the figure title\n",
    "print_styling()"
   ]
  },
  {
   "cell_type": "code",
   "execution_count": null,
   "metadata": {},
   "outputs": [],
   "source": [
    "fig, axs = plt.subplots(figsize=(14,12))\n",
    "\n",
    "logx, logy = True, True\n",
    "if (logx and logy):\n",
    "    plot_format = \"loglog\"\n",
    "if (logx and not logy):\n",
    "    plot_format = \"logx\"\n",
    "if (not logx and logy):\n",
    "    plot_format = \"logy\"\n",
    "else:\n",
    "    plot_format = \"linear\"\n",
    "\n",
    "print_styling();\n",
    "for n in N:\n",
    "    for df in data:\n",
    "        df.plot(x=\"N\", y=\"total_time\", ax=ax)\n",
    "\n",
    "axs[0][0].set_ylabel(\"runtime [s]\")\n",
    "axs[1][0].set_ylabel(\"runtime [s]\")\n",
    "axs[1][0].set_xlabel(\"N\")\n",
    "axs[1][1].set_xlabel(\"N\")\n",
    "#df.plot(x=x, y=gpu_ref+[\"time_cpuref\"], logx=logx, logy=logy, linestyle=\"--\", ax=ax);\n",
    "\n",
    "\n",
    "\n",
    "fig.suptitle(\"Sparse times Dense Matrix: Runtimes\")\n",
    "plt.tight_layout()\n",
    "\n",
    "#fig.savefig(\"spTd_runtimes.pdf\", bbox_inches=\"tight\", pad_inches=0.2)"
   ]
  }
 ]
}