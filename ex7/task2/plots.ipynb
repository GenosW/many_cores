{
 "metadata": {
  "language_info": {
   "codemirror_mode": {
    "name": "ipython",
    "version": 3
   },
   "file_extension": ".py",
   "mimetype": "text/x-python",
   "name": "python",
   "nbconvert_exporter": "python",
   "pygments_lexer": "ipython3",
   "version": "3.8.6-final"
  },
  "orig_nbformat": 2,
  "kernelspec": {
   "name": "python3",
   "display_name": "Python 3"
  }
 },
 "nbformat": 4,
 "nbformat_minor": 2,
 "cells": [
  {
   "source": [
    "# CUDA exercises"
   ],
   "cell_type": "markdown",
   "metadata": {}
  },
  {
   "cell_type": "code",
   "execution_count": null,
   "metadata": {},
   "outputs": [],
   "source": [
    "import numpy as np \n",
    "import pandas as pd \n",
    "import matplotlib.pyplot as plt\n",
    "import seaborn as sns\n",
    "from matplotlib import rcParams\n",
    "import itertools\n",
    "%matplotlib inline\n",
    "\n",
    "from IPython.display import display"
   ]
  },
  {
   "cell_type": "code",
   "execution_count": null,
   "metadata": {},
   "outputs": [],
   "source": [
    "def csv_parse(path, header=False, sep=\";\"):\n",
    "    if header:\n",
    "        df = pd.read_csv(path, sep=sep, names=header)\n",
    "    else:\n",
    "        df = pd.read_csv(path, sep=sep)\n",
    "    #display(df.head())\n",
    "    return df"
   ]
  },
  {
   "cell_type": "code",
   "execution_count": null,
   "metadata": {},
   "outputs": [],
   "source": [
    "def calcGB_Stride(df):\n",
    "    return 3*8* df[\"N\"]/df[\"k\"] /1e9\n",
    "\n",
    "def calcGB_Offset(df):\n",
    "    return 3*8* (df[\"N\"]-df[\"k\"])/1e9\n",
    "\n",
    "def transform_to_ms(df, cols):\n",
    "    return df[cols]*1e3\n"
   ]
  },
  {
   "source": [
    "# Ex7.1"
   ],
   "cell_type": "markdown",
   "metadata": {}
  },
  {
   "cell_type": "code",
   "execution_count": null,
   "metadata": {},
   "outputs": [],
   "source": [
    "def print_styling():\n",
    "\n",
    "    plt.rc('figure', figsize=(14,8)) \n",
    "    plt.style.use(\"seaborn\")\n",
    "    sns.set_palette(\"Paired\")\n",
    "    SMALL_SIZE = 15\n",
    "    MEDIUM_SIZE = 18\n",
    "    BIGGER_SIZE = 26\n",
    "\n",
    "    plt.rc('font', size=SMALL_SIZE)          # controls default text sizes\n",
    "    plt.rc('lines', linewidth=2)\n",
    "\n",
    "    plt.rc('xtick', labelsize=SMALL_SIZE)    # fontsize of the tick labels\n",
    "    plt.rc('ytick', labelsize=SMALL_SIZE)    # fontsize of the tick labels\n",
    "    plt.rc('axes', titlesize=MEDIUM_SIZE)     # fontsize of the axes title\n",
    "    plt.rc('axes', labelsize=MEDIUM_SIZE)    # fontsize of the x and y labels\n",
    "    \n",
    "    plt.rc('legend', fontsize=SMALL_SIZE)    # legend fontsize\n",
    "    plt.rc('figure', titlesize=BIGGER_SIZE)  # fontsize of the figure title\n",
    "print_styling()"
   ]
  },
  {
   "cell_type": "code",
   "execution_count": null,
   "metadata": {},
   "outputs": [],
   "source": [
    "df_CPU_slow = csv_parse(\"data/ph_data_CPU.csv\", header=False)\n",
    "df_CPU_fast = csv_parse(\"data/ph_data2_CPU.csv\", header=False)\n",
    "df_GPU_slow = csv_parse(\"data/ph_data_GPU.csv\", header=False)\n",
    "df_GPU_fast = csv_parse(\"data/ph_data2_GPU.csv\", header=False)\n",
    "\n",
    "for df_slow, df_fast in zip( [df_CPU_slow, df_GPU_slow],[df_CPU_fast, df_GPU_fast]):\n",
    "    df_fast[\"speedup\"] = df_slow[\"ocl_time\"] / df_fast[\"ocl_time\"]\n",
    "\n",
    "data = [df_CPU_slow, df_CPU_fast, df_GPU_slow, df_GPU_fast]\n",
    "data_fast = [df_CPU_fast, df_GPU_fast]\n",
    "for df in data:\n",
    "    display(df)"
   ]
  },
  {
   "cell_type": "code",
   "execution_count": null,
   "metadata": {},
   "outputs": [],
   "source": [
    "fig, axs = plt.subplots(ncols=2, nrows=2, figsize=(14,10))\n",
    "\n",
    "logx, logy = True, True\n",
    "if (logx and logy):\n",
    "    plot_format = \"loglog\"\n",
    "if (logx and not logy):\n",
    "    plot_format = \"logx\"\n",
    "if (not logx and logy):\n",
    "    plot_format = \"logy\"\n",
    "else:\n",
    "    plot_format = \"linear\"\n",
    "\n",
    "\n",
    "print_styling();\n",
    "for df, ax in zip(data, axs.ravel()):\n",
    "    target = df[\"target\"].unique()[0]\n",
    "    labels1 = [f\"OpenCL/{target}/laplace\", f\"Host/laplace\"]\n",
    "    labels2 = [f\"OpenCL/{target}/other\", f\"Host/other\"]\n",
    "    df[df[\"gen_type\"]==1].plot(x=\"N\", y=[\"ocl_time\", \"cpu_time\"], ax=ax, logx=logx, logy=logy, label=labels1)\n",
    "    df[df[\"gen_type\"]==2].plot(x=\"N\", y=[\"ocl_time\", \"cpu_time\"], ax=ax, logx=logx, logy=logy, label=labels2)\n",
    "\n",
    "#ax.set_ylabel(\"runtime [s]\")\n",
    "#ax.set_title(\"Total\")\n",
    "fig.suptitle(\"Sparse Matrix-Vector Product\")\n",
    "for ax in axs.ravel():\n",
    "    ax.grid(True)\n",
    "titles= [\"Slow kernel\", \"Fast kernel\"]\n",
    "for ax, title in zip(axs.ravel()[0:2], titles):\n",
    "    ax.set_title(title)\n",
    "# Set ylabels\n",
    "axs[0][0].set_ylabel(\"runtime [s]\")\n",
    "axs[1][0].set_ylabel(\"runtime [s]\")\n",
    "# Set xlabels\n",
    "axs[0][0].set_xlabel(\"\")\n",
    "axs[0][1].set_xlabel(\"\")\n",
    "\n",
    "plt.tight_layout()\n",
    "fig.savefig(\"plots/ex7.2_runtimes.pdf\", bbox_inches=\"tight\", pad_inches=0.2)"
   ]
  },
  {
   "cell_type": "code",
   "execution_count": null,
   "metadata": {},
   "outputs": [],
   "source": [
    "fig, axs = plt.subplots(ncols=2, figsize=(14,10))\n",
    "\n",
    "logx, logy = True, False\n",
    "if (logx and logy):\n",
    "    plot_format = \"loglog\"\n",
    "if (logx and not logy):\n",
    "    plot_format = \"logx\"\n",
    "if (not logx and logy):\n",
    "    plot_format = \"logy\"\n",
    "else:\n",
    "    plot_format = \"linear\"\n",
    "\n",
    "\n",
    "print_styling();\n",
    "for df, ax in zip(data_fast, axs.ravel()):\n",
    "    target = df[\"target\"].unique()[0]\n",
    "    labels1 = f\"OpenCL/{target}/laplace\"\n",
    "    labels2 = f\"OpenCL/{target}/other\"\n",
    "    df[df[\"gen_type\"]==1].plot(x=\"N\", y=\"speedup\", ax=ax, logx=logx, logy=logy, label=labels1)\n",
    "    df[df[\"gen_type\"]==2].plot(x=\"N\", y=\"speedup\", ax=ax, logx=logx, logy=logy, label=labels2)\n",
    "\n",
    "#ax.set_ylabel(\"runtime [s]\")\n",
    "#ax.set_title(\"Total\")\n",
    "fig.suptitle(\"Sparse Matrix-Vector Product\")\n",
    "for ax in axs.ravel():\n",
    "    ax.grid(True)\n",
    "titles= [\"CPU\", \"GPU\"]\n",
    "for ax, title in zip(axs.ravel()[0:2], titles):\n",
    "    ax.set_title(title)\n",
    "# Set ylabels\n",
    "axs[0].set_ylabel(\"runtime [s]\")\n",
    "\n",
    "plt.tight_layout()\n",
    "fig.savefig(\"plots/ex7.2_speedup.pdf\", bbox_inches=\"tight\", pad_inches=0.2)"
   ]
  },
  {
   "cell_type": "code",
   "execution_count": null,
   "metadata": {},
   "outputs": [],
   "source": []
  }
 ]
}