{
 "metadata": {
  "language_info": {
   "codemirror_mode": {
    "name": "ipython",
    "version": 3
   },
   "file_extension": ".py",
   "mimetype": "text/x-python",
   "name": "python",
   "nbconvert_exporter": "python",
   "pygments_lexer": "ipython3",
   "version": "3.8.6-final"
  },
  "orig_nbformat": 2,
  "kernelspec": {
   "name": "python3",
   "display_name": "Python 3",
   "language": "python"
  }
 },
 "nbformat": 4,
 "nbformat_minor": 2,
 "cells": [
  {
   "source": [
    "# CUDA exercises"
   ],
   "cell_type": "markdown",
   "metadata": {}
  },
  {
   "cell_type": "code",
   "execution_count": null,
   "metadata": {},
   "outputs": [],
   "source": [
    "import numpy as np \n",
    "import pandas as pd \n",
    "import matplotlib.pyplot as plt\n",
    "import seaborn as sns\n",
    "import pathlib\n",
    "from matplotlib import rcParams\n",
    "import itertools\n",
    "%matplotlib inline\n",
    "\n",
    "from IPython.display import display"
   ]
  },
  {
   "cell_type": "code",
   "execution_count": null,
   "metadata": {},
   "outputs": [],
   "source": [
    "def csv_parse(path, header=False, sep=\";\"):\n",
    "    if header:\n",
    "        df = pd.read_csv(path, sep=sep, names=header)\n",
    "    else:\n",
    "        df = pd.read_csv(path, sep=sep)\n",
    "    #display(df.head())\n",
    "    return df\n",
    "\n",
    "def load_glob(glob, concat=True):\n",
    "    liste = [pd.read_csv(file) for file in glob]\n",
    "    name = [file for file in glob]\n",
    "    repr(name)\n",
    "    if concat:\n",
    "        return pd.concat(liste)\n",
    "    return liste, name"
   ]
  },
  {
   "cell_type": "code",
   "execution_count": null,
   "metadata": {},
   "outputs": [],
   "source": [
    "def transform_to_ms(df, cols):\n",
    "    return df[cols]*1e3\n"
   ]
  },
  {
   "source": [
    "# Ex7.1"
   ],
   "cell_type": "markdown",
   "metadata": {}
  },
  {
   "cell_type": "code",
   "execution_count": null,
   "metadata": {},
   "outputs": [],
   "source": [
    "def print_styling():\n",
    "\n",
    "    plt.rc('figure', figsize=(12,8)) \n",
    "    plt.style.use(\"seaborn\")\n",
    "    sns.set_palette(\"Paired\")\n",
    "    SMALL_SIZE = 15\n",
    "    MEDIUM_SIZE = 18\n",
    "    BIGGER_SIZE = 26\n",
    "\n",
    "    plt.rc('font', size=SMALL_SIZE)          # controls default text sizes\n",
    "    plt.rc('lines', linewidth=2)\n",
    "\n",
    "    plt.rc('xtick', labelsize=SMALL_SIZE)    # fontsize of the tick labels\n",
    "    plt.rc('ytick', labelsize=SMALL_SIZE)    # fontsize of the tick labels\n",
    "    plt.rc('axes', titlesize=MEDIUM_SIZE)     # fontsize of the axes title\n",
    "    plt.rc('axes', labelsize=MEDIUM_SIZE)    # fontsize of the x and y labels\n",
    "    \n",
    "    plt.rc('legend', fontsize=SMALL_SIZE)    # legend fontsize\n",
    "    plt.rc('figure', titlesize=BIGGER_SIZE)  # fontsize of the figure title\n",
    "print_styling()"
   ]
  },
  {
   "cell_type": "code",
   "execution_count": null,
   "metadata": {},
   "outputs": [],
   "source": [
    "# Get the data\n",
    "cwd = pathlib.Path(os.getcwd())\n",
    "data_subdir = cwd.parent / \"data\"\n",
    "plot_dir = cwd / \"out\"\n",
    "data_subdir, plot_dir"
   ]
  },
  {
   "cell_type": "code",
   "execution_count": null,
   "metadata": {},
   "outputs": [],
   "source": [
    "project = {\n",
    "    \"boost\": {\"OpenCL\": pd.DataFrame()},\n",
    "    \"mykernel\": {\n",
    "        \"OpenCL\": pd.DataFrame(),\n",
    "        \"CUDA\": pd.DataFrame()\n",
    "    },\n",
    "    \"thrust\": {\"CUDA\": pd.DataFrame()},\n",
    "    \"vexcl\": {\"OpenCL\": pd.DataFrame()},\n",
    "    \"viennacl\": {\n",
    "        \"OpenCL\": pd.DataFrame(),\n",
    "        \"CUDA\": pd.DataFrame()\n",
    "    }\n",
    "}\n",
    "\n",
    "all_data = []\n",
    "all_names = []\n",
    "for lib in project:\n",
    "    for imp in project[lib]:\n",
    "        imp_short = \"ocl\" if imp==\"OpenCL\" else \"cuda\"\n",
    "        regex_pattern = f\"ph_data_{lib}_{imp_short}.csv\"\n",
    "        #print(regex_pattern)\n",
    "        files = list(data_subdir.glob(regex_pattern))\n",
    "        #print(files)\n",
    "        if len(files) > 1:\n",
    "            print(\"There shouldn't be more than 1 file...\")\n",
    "        file = files[0]\n",
    "        df = csv_parse(file)\n",
    "        project[lib][imp] = df\n",
    "        all_data.append(df)\n",
    "        all_names.append(f\"{lib} / {imp}\")\n",
    "\n",
    "df_ref = project[\"mykernel\"][\"OpenCL\"]\n",
    "for lib in project:\n",
    "    for imp in project[lib]:\n",
    "        project[lib][imp][\"Speedup\"] =  df_ref[\"dot_time\"] / project[lib][imp][\"dot_time\"]\n",
    "\n",
    "all_names\n",
    "#project"
   ]
  },
  {
   "cell_type": "code",
   "execution_count": null,
   "metadata": {},
   "outputs": [],
   "source": [
    "df_ref"
   ]
  },
  {
   "cell_type": "code",
   "execution_count": null,
   "metadata": {},
   "outputs": [],
   "source": [
    "fig, axs = plt.subplots(ncols=2, figsize=(12,8))\n",
    "axs = axs.ravel()\n",
    "logx, logy = True, True\n",
    "if (logx and logy):\n",
    "    plot_format = \"loglog\"\n",
    "if (logx and not logy):\n",
    "    plot_format = \"logx\"\n",
    "if (not logx and logy):\n",
    "    plot_format = \"logy\"\n",
    "else:\n",
    "    plot_format = \"linear\"\n",
    "\n",
    "for df, label in zip(all_data, all_names):\n",
    "    if \"CUDA\" in label:\n",
    "        df.plot(x=\"N\", y=\"dot_time\", label=label, logx=logx, logy=logy, ax=axs[0]);\n",
    "    else:\n",
    "        df.plot(x=\"N\", y=\"dot_time\", label=label, logx=logx, logy=logy, ax=axs[1]);\n",
    "\n",
    "fig.suptitle(\"Runtime: Dot-product in different libraries\")\n",
    "titles = [\"Backend: CUDA\", \"Backend: OpenCL\"]\n",
    "for ax, title in zip(axs, titles):\n",
    "    ax.set_title(title)\n",
    "axs[0].set_ylabel(\"runtime[s]\")\n",
    "\n",
    "\n",
    "plt.tight_layout()\n",
    "fig.savefig(plot_dir / \"runtimes_per_backend.pdf\", bbox_inches=\"tight\", pad_inches=0.2)"
   ]
  },
  {
   "cell_type": "code",
   "execution_count": null,
   "metadata": {},
   "outputs": [],
   "source": [
    "fig, axs = plt.subplots(ncols= 2, figsize=(12,8))\n",
    "axs = axs.ravel()\n",
    "logx, logy = True, True\n",
    "if (logx and logy):\n",
    "    plot_format = \"loglog\"\n",
    "if (logx and not logy):\n",
    "    plot_format = \"logx\"\n",
    "if (not logx and logy):\n",
    "    plot_format = \"logy\"\n",
    "else:\n",
    "    plot_format = \"linear\"\n",
    "\n",
    "for df, label in zip(all_data, all_names):\n",
    "    ls = \"-\" if \"CUDA\" in label else \"--\"\n",
    "    df.plot(x=\"N\", y=\"dot_time\", label=label, ls=ls, logx=logx, logy=logy, ax=axs[0]);\n",
    "    df.plot(x=\"N\", y=\"Speedup\", label=label, ls=ls, logx=logx, logy=logy, ax=axs[1]);\n",
    "\n",
    "fig.suptitle(\"Benchmark: Dot-product in different libraries\")\n",
    "titles = [\"Runtimes [s]\", \"Speedup\"]\n",
    "for ax, title in zip(axs, titles):\n",
    "    ax.set_title(title)\n",
    "axs[0].set_ylabel(\"runtime [s]\")\n",
    "axs[1].set_ylabel(\"speedup\")\n",
    "\n",
    "\n",
    "plt.tight_layout()\n",
    "fig.savefig(plot_dir / \"runtimes_speedup.pdf\", bbox_inches=\"tight\", pad_inches=0.2)"
   ]
  },
  {
   "cell_type": "code",
   "execution_count": null,
   "metadata": {},
   "outputs": [],
   "source": []
  }
 ]
}